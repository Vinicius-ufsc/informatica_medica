{
 "cells": [
  {
   "cell_type": "markdown",
   "id": "54e5102c-57f5-4fd6-96f2-c66430d89f37",
   "metadata": {},
   "source": [
    "# Post-Ictal Heart Rate Oscillations in Partial Epilepsy"
   ]
  },
  {
   "cell_type": "code",
   "execution_count": 1,
   "id": "c958077e-768f-488f-85a8-f2ebcf6fd416",
   "metadata": {},
   "outputs": [],
   "source": [
    "import os\n",
    "import wfdb\n",
    "import numpy as np\n",
    "import pandas as pd\n",
    "from collections import Counter\n",
    "from matplotlib import pyplot as plt\n",
    "from hrvanalysis import get_time_domain_features,get_frequency_domain_features, plot_psd\n",
    "\n",
    "import warnings\n",
    "warnings.filterwarnings(\"ignore\")"
   ]
  },
  {
   "cell_type": "code",
   "execution_count": 2,
   "id": "b72dea33-6ac2-4b0e-b9fb-5e5fa5863dda",
   "metadata": {},
   "outputs": [
    {
     "name": "stdout",
     "output_type": "stream",
     "text": [
      "Generating record list for: sz01\n",
      "Generating record list for: sz02\n",
      "Generating record list for: sz03\n",
      "Generating record list for: sz04\n",
      "Generating record list for: sz05\n",
      "Generating record list for: sz06\n",
      "Generating record list for: sz07\n",
      "Generating list of all files for: sz01\n",
      "Generating list of all files for: sz02\n",
      "Generating list of all files for: sz03\n",
      "Generating list of all files for: sz04\n",
      "Generating list of all files for: sz05\n",
      "Generating list of all files for: sz06\n",
      "Generating list of all files for: sz07\n",
      "Created local base download directory: c:\\Users\\Vinc\\Music\\2022.2\\EEL7307-08235 (20222) - Introdução a Informática Médica\\git\\informatica_medica\\szdb\n",
      "Downloading files...\n",
      "Finished downloading files\n"
     ]
    }
   ],
   "source": [
    "if True:\n",
    "    # baixando os arquivos de HRO (heart rate oscillations).\n",
    "    wfdb.dl_database(\"szdb\", os.path.join(os.getcwd(), \"szdb\"))"
   ]
  },
  {
   "cell_type": "markdown",
   "id": "20ad6839-50bf-46a7-9492-c3cb8c88d5d8",
   "metadata": {},
   "source": [
    "# Calculo dos tempos onde há convulsão"
   ]
  },
  {
   "cell_type": "code",
   "execution_count": 3,
   "id": "4b884177-402d-465c-a772-59e81f7f0fc2",
   "metadata": {},
   "outputs": [
    {
     "data": {
      "text/plain": [
       "[[[876, 972]],\n",
       " [[3763, 3823], [10551, 10576]],\n",
       " [[5074, 5182], [9267, 9377]],\n",
       " [[1210, 1315]],\n",
       " [[1447, 1530]],\n",
       " [[3085, 3139], [7485, 7570]],\n",
       " [[4082, 4171]]]"
      ]
     },
     "execution_count": 3,
     "metadata": {},
     "output_type": "execute_result"
    }
   ],
   "source": [
    "a = ['sz01 00:14:36 00:16:12', # 1\n",
    "    'sz02 01:02:43 01:03:43', # 2\n",
    "    'sz02 02:55:51 02:56:16', # 2\n",
    "    'sz03 01:24:34 01:26:22', # 3\n",
    "    'sz03 02:34:27 02:36:17', # 3\n",
    "    'sz04 00:20:10 00:21:55', # 4\n",
    "    'sz05 00:24:07 00:25:30', # 5\n",
    "    'sz06 00:51:25 00:52:19', # 6\n",
    "    'sz06 02:04:45 02:06:10', # 6\n",
    "    'sz07 01:08:02 01:09:31'] # 7\n",
    "\n",
    "def _(string):\n",
    "\n",
    "    start = string.split()[1].split(':')\n",
    "    end = string.split()[2].split(':')\n",
    "    \n",
    "    start_s = int(start[0])*60*60 + int(start[1])*60 + int(start[2])\n",
    "    end_s = int(end[0])*60*60 + int(end[1])*60 + int(end[2])\n",
    "    \n",
    "    #print(start_s, end_s)\n",
    "    return [start_s, end_s]\n",
    "    \n",
    "tempos = []\n",
    "for string in a:\n",
    "    tempos.append(_(string))\n",
    "                  \n",
    "tempos = [[[876, 972]],  #1\n",
    " [[3763, 3823],[10551, 10576]], # 2\n",
    " [[5074, 5182],[9267, 9377]], # 3\n",
    " [[1210, 1315]], # 4\n",
    " [[1447, 1530]], # 5\n",
    " [[3085, 3139],[7485, 7570]], # 6\n",
    " [[4082, 4171]]] # 7\n",
    "\n",
    "tempos"
   ]
  },
  {
   "cell_type": "markdown",
   "id": "e218664c-cbfd-48f2-8828-b1db8437679c",
   "metadata": {},
   "source": [
    "# Obtenção da VFC (variabilidade da frequência cardíaca) a partir do arquivo de anotações"
   ]
  },
  {
   "cell_type": "code",
   "execution_count": 4,
   "id": "b007958d-f0ca-4565-9275-d7800dda6fcf",
   "metadata": {},
   "outputs": [],
   "source": [
    "# 140 media de amostras 'C' (1).\n",
    "def _process_vfc(pandas, tempos):\n",
    "    \n",
    "    \"\"\"\n",
    "    faz as anotações em cada pandas dataset em função dos tempos em segundos\n",
    "    onde há convulsão.\n",
    "    \"\"\"\n",
    "    \n",
    "    indexes_list = []\n",
    "    #vfc[(vfc.tempo >= tempo[0]) & (vfc.tempo <= tempo[1])]\n",
    "    # pegando indexes onde há convulsão.\n",
    "    for tempo in tempos:\n",
    "        indexes = pandas.index[(pandas['tempo'] >= tempo[0]) & (pandas['tempo'] <= tempo[1])].tolist()\n",
    "        print('indexes \"C\" (1): ',np.min(indexes), np.max(indexes))\n",
    "        print('dif:',np.max(indexes) - np.min(indexes))\n",
    "        indexes_list.extend(indexes)\n",
    "        \n",
    "    #print(indexes_list)\n",
    "   \n",
    "    print('tamanho amostras',len(pandas))\n",
    "    print('--------------------------')\n",
    "    # criando uma coluna auxiliar para usar apply.\n",
    "    pandas['index1'] = pandas.index\n",
    "    # criando a coluna labels, recebe 'C' se o index da linha esta na lista, se não 'N'.\n",
    "    #pandas['labels'] = pandas.apply(lambda row: 'C' if pandas.index(row) in indexes else 'N', axis=1)\n",
    "    pandas['labels'] = pandas.apply(lambda row: 1 if row.index1 in indexes_list else 0, axis=1)\n",
    "    pandas = pandas.drop(columns = ['index1'])\n",
    "    # retorna o dataset anotado.\n",
    "    return pandas\n"
   ]
  },
  {
   "cell_type": "code",
   "execution_count": 5,
   "id": "b328ed2c-ac37-4c44-bd16-34f3352e5351",
   "metadata": {},
   "outputs": [],
   "source": [
    "def most_frequent(List):\n",
    "    \"\"\"\n",
    "    obtem a label com maior numero de ocorrencias em uma lista ('N' (0), 'C' (1)).\n",
    "    \"\"\"\n",
    "    occurence_count = Counter(List)\n",
    "    return occurence_count.most_common(1)[0][0]"
   ]
  },
  {
   "cell_type": "code",
   "execution_count": 6,
   "id": "5e9593fd-fb3a-4f13-8da5-c374d3a0b6b1",
   "metadata": {},
   "outputs": [
    {
     "name": "stdout",
     "output_type": "stream",
     "text": [
      "Número de amostras= 1079998 , taxa de amostragem= 200\n",
      "indexes \"C\" (1):  1088 1273\n",
      "dif: 185\n",
      "tamanho amostras 8385\n",
      "--------------------------\n",
      "Número de amostras= 2519998 , taxa de amostragem= 200\n",
      "indexes \"C\" (1):  3875 3959\n",
      "dif: 84\n",
      "indexes \"C\" (1):  10842 10877\n",
      "dif: 35\n",
      "tamanho amostras 13195\n",
      "--------------------------\n",
      "Número de amostras= 2711998 , taxa de amostragem= 200\n",
      "indexes \"C\" (1):  5790 5957\n",
      "dif: 167\n",
      "indexes \"C\" (1):  10954 11172\n",
      "dif: 218\n",
      "tamanho amostras 16384\n",
      "--------------------------\n",
      "Número de amostras= 1079998 , taxa de amostragem= 200\n",
      "indexes \"C\" (1):  1226 1408\n",
      "dif: 182\n",
      "tamanho amostras 6229\n",
      "--------------------------\n",
      "Número de amostras= 1080006 , taxa de amostragem= 200\n",
      "indexes \"C\" (1):  2164 2324\n",
      "dif: 160\n",
      "tamanho amostras 8076\n",
      "--------------------------\n",
      "Número de amostras= 2159998 , taxa de amostragem= 200\n",
      "indexes \"C\" (1):  3729 3796\n",
      "dif: 67\n",
      "indexes \"C\" (1):  8894 8991\n",
      "dif: 97\n",
      "tamanho amostras 12758\n",
      "--------------------------\n",
      "Número de amostras= 1439998 , taxa de amostragem= 200\n",
      "indexes \"C\" (1):  4915 5122\n",
      "dif: 207\n",
      "tamanho amostras 8892\n",
      "--------------------------\n"
     ]
    }
   ],
   "source": [
    "df_vfc = pd.DataFrame()\n",
    "for i in range(1,8):\n",
    "    \n",
    "    \"\"\"\n",
    "    para cada dataset, carrega as anotações, converte para pandas dataframe e cria a coluna das labels ('N' (0): normal, 'C' (1): convulsão).\n",
    "    \n",
    "    retorna um dataframe com todos os datasets juntos anotados (df_vfc).\n",
    "    \"\"\"\n",
    "    \n",
    "    path = \"szdb/sz0\"+str(i)\n",
    "    \n",
    "    record = wfdb.rdrecord(path) # Efetuamos a leitura do arquivo apenas para obter o número total de pontos e fs.\n",
    "    fs=record.fs\n",
    "    nr_sampl=record.sig_len\n",
    "    del record # Liberamos memória\n",
    "    print('Número de amostras=',nr_sampl,', taxa de amostragem=',fs)\n",
    "    \n",
    "    # Obtem as anotações do arquivo sz01.ari\n",
    "    sampfrom=0\n",
    "    sampto=nr_sampl  # pega todo o sinal.\n",
    "    annotation = wfdb.rdann(path, 'ari', sampfrom=sampfrom, sampto=sampto) \n",
    "    annotation.fs = fs # Ajustamos o tempo das anotações para a mesma taxa de amostragem do sinal\n",
    "    \n",
    "    # Efetuamos novamente a leitura de todo o sinal\n",
    "    annotation = wfdb.rdann(path, 'ari')\n",
    "    r_times=annotation.sample #criamos um array com os tempos (em número de amostras)\n",
    "    vfc = pd.DataFrame(r_times,columns = ['sample'])\n",
    "    vfc['tempo']= vfc['sample']/fs # convertemos o número da amostra em segundos\n",
    "    vfc['vfc'] =  vfc['tempo'].shift(-1)-vfc['tempo']\n",
    "    vfc = vfc.fillna(0) # remove NaN substituindo por zeros.\n",
    "                            \n",
    "    tempo_t = tempos[i-1]                       \n",
    "    vfc = _process_vfc(pandas = vfc, tempos = tempo_t)\n",
    "    df_vfc = pd.concat([df_vfc, vfc])"
   ]
  },
  {
   "cell_type": "code",
   "execution_count": 7,
   "id": "556dfda9",
   "metadata": {},
   "outputs": [
    {
     "data": {
      "text/plain": [
       "(array([0, 1]), array([72507,  1412], dtype=int64))"
      ]
     },
     "execution_count": 7,
     "metadata": {},
     "output_type": "execute_result"
    }
   ],
   "source": [
    "np.unique(df_vfc.labels.to_list(), return_counts = True)"
   ]
  },
  {
   "cell_type": "code",
   "execution_count": 63,
   "id": "7bb81fdf-5207-49b1-ae31-1568c5ccb1d0",
   "metadata": {},
   "outputs": [
    {
     "data": {
      "text/html": [
       "<div>\n",
       "<style scoped>\n",
       "    .dataframe tbody tr th:only-of-type {\n",
       "        vertical-align: middle;\n",
       "    }\n",
       "\n",
       "    .dataframe tbody tr th {\n",
       "        vertical-align: top;\n",
       "    }\n",
       "\n",
       "    .dataframe thead th {\n",
       "        text-align: right;\n",
       "    }\n",
       "</style>\n",
       "<table border=\"1\" class=\"dataframe\">\n",
       "  <thead>\n",
       "    <tr style=\"text-align: right;\">\n",
       "      <th></th>\n",
       "      <th>mean_nni</th>\n",
       "      <th>sdnn</th>\n",
       "      <th>sdsd</th>\n",
       "      <th>nni_50</th>\n",
       "      <th>pnni_50</th>\n",
       "      <th>nni_20</th>\n",
       "      <th>pnni_20</th>\n",
       "      <th>rmssd</th>\n",
       "      <th>median_nni</th>\n",
       "      <th>range_nni</th>\n",
       "      <th>...</th>\n",
       "      <th>min_hr</th>\n",
       "      <th>std_hr</th>\n",
       "      <th>lf</th>\n",
       "      <th>hf</th>\n",
       "      <th>lf_hf_ratio</th>\n",
       "      <th>lfnu</th>\n",
       "      <th>hfnu</th>\n",
       "      <th>total_power</th>\n",
       "      <th>vlf</th>\n",
       "      <th>labels</th>\n",
       "    </tr>\n",
       "  </thead>\n",
       "  <tbody>\n",
       "    <tr>\n",
       "      <th>0</th>\n",
       "      <td>0.815588</td>\n",
       "      <td>0.050587</td>\n",
       "      <td>0.043192</td>\n",
       "      <td>0</td>\n",
       "      <td>0.0</td>\n",
       "      <td>0</td>\n",
       "      <td>0.0</td>\n",
       "      <td>0.043283</td>\n",
       "      <td>0.820</td>\n",
       "      <td>0.180</td>\n",
       "      <td>...</td>\n",
       "      <td>65934.065934</td>\n",
       "      <td>4413.902170</td>\n",
       "      <td>4.714183e-06</td>\n",
       "      <td>1.414255e-05</td>\n",
       "      <td>0.333333</td>\n",
       "      <td>25.0</td>\n",
       "      <td>75.0</td>\n",
       "      <td>2.003528e-05</td>\n",
       "      <td>1.178546e-06</td>\n",
       "      <td>0</td>\n",
       "    </tr>\n",
       "    <tr>\n",
       "      <th>1</th>\n",
       "      <td>0.844412</td>\n",
       "      <td>0.053265</td>\n",
       "      <td>0.049745</td>\n",
       "      <td>0</td>\n",
       "      <td>0.0</td>\n",
       "      <td>0</td>\n",
       "      <td>0.0</td>\n",
       "      <td>0.050621</td>\n",
       "      <td>0.860</td>\n",
       "      <td>0.165</td>\n",
       "      <td>...</td>\n",
       "      <td>65934.065934</td>\n",
       "      <td>4523.832246</td>\n",
       "      <td>6.025408e-06</td>\n",
       "      <td>1.807622e-05</td>\n",
       "      <td>0.333333</td>\n",
       "      <td>25.0</td>\n",
       "      <td>75.0</td>\n",
       "      <td>2.560798e-05</td>\n",
       "      <td>1.506352e-06</td>\n",
       "      <td>0</td>\n",
       "    </tr>\n",
       "    <tr>\n",
       "      <th>2</th>\n",
       "      <td>0.853824</td>\n",
       "      <td>0.036251</td>\n",
       "      <td>0.037118</td>\n",
       "      <td>0</td>\n",
       "      <td>0.0</td>\n",
       "      <td>0</td>\n",
       "      <td>0.0</td>\n",
       "      <td>0.037375</td>\n",
       "      <td>0.850</td>\n",
       "      <td>0.125</td>\n",
       "      <td>...</td>\n",
       "      <td>65217.391304</td>\n",
       "      <td>2880.969284</td>\n",
       "      <td>4.296333e-06</td>\n",
       "      <td>1.288900e-05</td>\n",
       "      <td>0.333333</td>\n",
       "      <td>25.0</td>\n",
       "      <td>75.0</td>\n",
       "      <td>1.825941e-05</td>\n",
       "      <td>1.074083e-06</td>\n",
       "      <td>0</td>\n",
       "    </tr>\n",
       "    <tr>\n",
       "      <th>3</th>\n",
       "      <td>0.841471</td>\n",
       "      <td>0.026325</td>\n",
       "      <td>0.034673</td>\n",
       "      <td>0</td>\n",
       "      <td>0.0</td>\n",
       "      <td>0</td>\n",
       "      <td>0.0</td>\n",
       "      <td>0.034709</td>\n",
       "      <td>0.835</td>\n",
       "      <td>0.095</td>\n",
       "      <td>...</td>\n",
       "      <td>67039.106145</td>\n",
       "      <td>2148.570310</td>\n",
       "      <td>3.997984e-07</td>\n",
       "      <td>1.199395e-06</td>\n",
       "      <td>0.333333</td>\n",
       "      <td>25.0</td>\n",
       "      <td>75.0</td>\n",
       "      <td>1.699143e-06</td>\n",
       "      <td>9.994961e-08</td>\n",
       "      <td>0</td>\n",
       "    </tr>\n",
       "    <tr>\n",
       "      <th>4</th>\n",
       "      <td>0.860882</td>\n",
       "      <td>0.034060</td>\n",
       "      <td>0.037779</td>\n",
       "      <td>0</td>\n",
       "      <td>0.0</td>\n",
       "      <td>0</td>\n",
       "      <td>0.0</td>\n",
       "      <td>0.037811</td>\n",
       "      <td>0.860</td>\n",
       "      <td>0.115</td>\n",
       "      <td>...</td>\n",
       "      <td>64864.864865</td>\n",
       "      <td>2655.071218</td>\n",
       "      <td>1.004159e-08</td>\n",
       "      <td>3.012476e-08</td>\n",
       "      <td>0.333333</td>\n",
       "      <td>25.0</td>\n",
       "      <td>75.0</td>\n",
       "      <td>4.267675e-08</td>\n",
       "      <td>2.510397e-09</td>\n",
       "      <td>0</td>\n",
       "    </tr>\n",
       "  </tbody>\n",
       "</table>\n",
       "<p>5 rows × 24 columns</p>\n",
       "</div>"
      ],
      "text/plain": [
       "   mean_nni      sdnn      sdsd  nni_50  pnni_50  nni_20  pnni_20     rmssd  \\\n",
       "0  0.815588  0.050587  0.043192       0      0.0       0      0.0  0.043283   \n",
       "1  0.844412  0.053265  0.049745       0      0.0       0      0.0  0.050621   \n",
       "2  0.853824  0.036251  0.037118       0      0.0       0      0.0  0.037375   \n",
       "3  0.841471  0.026325  0.034673       0      0.0       0      0.0  0.034709   \n",
       "4  0.860882  0.034060  0.037779       0      0.0       0      0.0  0.037811   \n",
       "\n",
       "   median_nni  range_nni  ...        min_hr       std_hr            lf  \\\n",
       "0       0.820      0.180  ...  65934.065934  4413.902170  4.714183e-06   \n",
       "1       0.860      0.165  ...  65934.065934  4523.832246  6.025408e-06   \n",
       "2       0.850      0.125  ...  65217.391304  2880.969284  4.296333e-06   \n",
       "3       0.835      0.095  ...  67039.106145  2148.570310  3.997984e-07   \n",
       "4       0.860      0.115  ...  64864.864865  2655.071218  1.004159e-08   \n",
       "\n",
       "             hf  lf_hf_ratio  lfnu  hfnu   total_power           vlf  labels  \n",
       "0  1.414255e-05     0.333333  25.0  75.0  2.003528e-05  1.178546e-06       0  \n",
       "1  1.807622e-05     0.333333  25.0  75.0  2.560798e-05  1.506352e-06       0  \n",
       "2  1.288900e-05     0.333333  25.0  75.0  1.825941e-05  1.074083e-06       0  \n",
       "3  1.199395e-06     0.333333  25.0  75.0  1.699143e-06  9.994961e-08       0  \n",
       "4  3.012476e-08     0.333333  25.0  75.0  4.267675e-08  2.510397e-09       0  \n",
       "\n",
       "[5 rows x 24 columns]"
      ]
     },
     "execution_count": 63,
     "metadata": {},
     "output_type": "execute_result"
    }
   ],
   "source": [
    "# Extrai atributos no domínio tempo\n",
    "\n",
    "\"\"\"\n",
    "Em uma janela de 140 amostras (media de amostras onde há convulsão),\n",
    "obtem as features no tempo e na frequencia e cria um pandas dataframe.\n",
    "\"\"\"\n",
    "\n",
    "amostragem = 17\n",
    "\n",
    "df_final = pd.DataFrame()\n",
    "#for i in range(0:len(df_vfc):140):\n",
    "for index ,i in enumerate(range(0,len(df_vfc),amostragem)):    \n",
    "    \n",
    "    #df_aux = pd.DataFrame()\n",
    "    label = most_frequent(List = df_vfc['labels'][i:i+amostragem].to_list())\n",
    "\n",
    "    RR_interval = df_vfc['vfc'][i:i+amostragem] # pegando 140 em 140 amostras.\n",
    "    td_features = get_time_domain_features(RR_interval);\n",
    "    #display(td_features)\n",
    "    # Extrai atributos no domínio da frequência\n",
    "    fd_features = get_frequency_domain_features(RR_interval, sampling_frequency = 80);\n",
    "    \n",
    "    td_features.update(fd_features) \n",
    "        \n",
    "    df_aux = pd.DataFrame(td_features,  index=[index])\n",
    "    #df_aux['labels'].loc[index] = label\n",
    "    df_aux['labels'] = label\n",
    "    \n",
    "    df_final = pd.concat([df_final,df_aux])\n",
    "    \n",
    "df_final.head()"
   ]
  },
  {
   "cell_type": "markdown",
   "id": "c8e8e458",
   "metadata": {},
   "source": [
    "np.unique(df_final.labels.to_list(), return_counts = True)"
   ]
  },
  {
   "cell_type": "code",
   "execution_count": 64,
   "id": "71522adf",
   "metadata": {},
   "outputs": [
    {
     "data": {
      "text/plain": [
       "0    4266\n",
       "1      83\n",
       "Name: labels, dtype: int64"
      ]
     },
     "execution_count": 64,
     "metadata": {},
     "output_type": "execute_result"
    }
   ],
   "source": [
    "df_final['labels'].value_counts()\n"
   ]
  },
  {
   "cell_type": "code",
   "execution_count": 65,
   "id": "85c1b26b",
   "metadata": {},
   "outputs": [
    {
     "name": "stdout",
     "output_type": "stream",
     "text": [
      "4349\n",
      "3040\n"
     ]
    }
   ],
   "source": [
    "print(len(df_final))\n",
    "df_final = df_final.dropna()\n",
    "print(len(df_final))"
   ]
  },
  {
   "cell_type": "code",
   "execution_count": 62,
   "id": "81361ba9",
   "metadata": {},
   "outputs": [],
   "source": []
  },
  {
   "cell_type": "markdown",
   "id": "b7665731",
   "metadata": {},
   "source": [
    "df_final.fillna(0, inplace=True)\n",
    "df_final.isnull().values.any()"
   ]
  },
  {
   "cell_type": "code",
   "execution_count": 66,
   "id": "37c28461-fe9f-4928-8f9a-b9e3a553c7c0",
   "metadata": {},
   "outputs": [],
   "source": [
    "df_final.to_csv('vfc_dataset_janela-17_fs-80.csv', index=False); "
   ]
  },
  {
   "cell_type": "markdown",
   "id": "61ecd23c",
   "metadata": {},
   "source": [
    "Atributos:"
   ]
  },
  {
   "cell_type": "markdown",
   "id": "af40c886",
   "metadata": {},
   "source": [
    "https://aura-healthcare.github.io/hrv-analysis/hrvanalysis.html#module-hrvanalysis.extract_features"
   ]
  },
  {
   "cell_type": "markdown",
   "id": "2726e0e8",
   "metadata": {},
   "source": [
    "Notebook base:\n",
    "https://anaconda.org/cesar_ufsc/vfc_do_ecg_c_wfdb/notebook"
   ]
  }
 ],
 "metadata": {
  "kernelspec": {
   "display_name": "Python 3.9.12 ('base')",
   "language": "python",
   "name": "python3"
  },
  "language_info": {
   "codemirror_mode": {
    "name": "ipython",
    "version": 3
   },
   "file_extension": ".py",
   "mimetype": "text/x-python",
   "name": "python",
   "nbconvert_exporter": "python",
   "pygments_lexer": "ipython3",
   "version": "3.9.12"
  },
  "vscode": {
   "interpreter": {
    "hash": "e68425632ef3d8afcdd8f572edca19ea3f2e8feae4b994ff8cdeeacaa55399e4"
   }
  }
 },
 "nbformat": 4,
 "nbformat_minor": 5
}
