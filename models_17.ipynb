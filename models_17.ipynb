{
 "cells": [
  {
   "cell_type": "code",
   "execution_count": 2,
   "metadata": {},
   "outputs": [],
   "source": [
    "import pandas as pd\n",
    "import numpy as np\n",
    "\n",
    "from sklearn.neighbors import KNeighborsClassifier\n",
    "from sklearn.ensemble import RandomForestClassifier\n",
    "from sklearn.linear_model import LogisticRegression\n",
    "from sklearn.model_selection import RandomizedSearchCV, RepeatedStratifiedKFold\n",
    "\n",
    "from sklearn.metrics import classification_report, ConfusionMatrixDisplay, balanced_accuracy_score\n",
    "\n",
    "from sklearn.model_selection import train_test_split"
   ]
  },
  {
   "cell_type": "code",
   "execution_count": 3,
   "metadata": {},
   "outputs": [],
   "source": [
    "df_vfc = pd.read_csv(\"vfc_dataset_janela_17.csv\")"
   ]
  },
  {
   "cell_type": "code",
   "execution_count": 4,
   "metadata": {},
   "outputs": [
    {
     "data": {
      "text/plain": [
       "Index(['mean_nni', 'sdnn', 'sdsd', 'nni_50', 'pnni_50', 'nni_20', 'pnni_20',\n",
       "       'rmssd', 'median_nni', 'range_nni', 'cvsd', 'cvnni', 'mean_hr',\n",
       "       'max_hr', 'min_hr', 'std_hr', 'lf', 'hf', 'lf_hf_ratio', 'lfnu', 'hfnu',\n",
       "       'total_power', 'vlf', 'labels'],\n",
       "      dtype='object')"
      ]
     },
     "execution_count": 4,
     "metadata": {},
     "output_type": "execute_result"
    }
   ],
   "source": [
    "df_vfc.columns"
   ]
  },
  {
   "cell_type": "code",
   "execution_count": 23,
   "metadata": {},
   "outputs": [],
   "source": [
    "cols = ['mean_nni', 'sdnn','sdnn', 'median_nni','total_power', 'lf', 'hf']\n",
    "x_train, x_test, y_train, y_test = train_test_split(df_vfc[cols], df_vfc['labels'], random_state=42)"
   ]
  },
  {
   "cell_type": "code",
   "execution_count": 42,
   "metadata": {},
   "outputs": [
    {
     "data": {
      "text/plain": [
       "0    4266\n",
       "1      83\n",
       "Name: labels, dtype: int64"
      ]
     },
     "execution_count": 42,
     "metadata": {},
     "output_type": "execute_result"
    }
   ],
   "source": [
    "df_vfc['labels'].value_counts()"
   ]
  },
  {
   "cell_type": "code",
   "execution_count": 24,
   "metadata": {},
   "outputs": [
    {
     "data": {
      "text/plain": [
       "mean_nni       0\n",
       "sdnn           0\n",
       "sdnn           0\n",
       "median_nni     0\n",
       "total_power    0\n",
       "lf             0\n",
       "hf             0\n",
       "dtype: int64"
      ]
     },
     "execution_count": 24,
     "metadata": {},
     "output_type": "execute_result"
    }
   ],
   "source": [
    "df_vfc[cols].isin([np.nan, np.inf, -np.inf]).sum()"
   ]
  },
  {
   "cell_type": "code",
   "execution_count": 6,
   "metadata": {},
   "outputs": [],
   "source": [
    "n_iter = 20"
   ]
  },
  {
   "cell_type": "markdown",
   "metadata": {},
   "source": [
    "### Random Forest Classifier"
   ]
  },
  {
   "cell_type": "code",
   "execution_count": 27,
   "metadata": {},
   "outputs": [],
   "source": [
    "param_search = {'n_estimators': [400],\n",
    "                  'oob_score': [False],\n",
    "                  'criterion': ['gini'],\n",
    "                  'bootstrap':[True],\n",
    "                  'class_weight':['balanced_subsample'],\n",
    "                  'min_weight_fraction_leaf':[0, 0.1, 0.2, 0.3, 0.4, 0.5], \n",
    "                  'min_impurity_decrease':[0, 0.1],\n",
    "                  'min_samples_split': [10, 30, 60, 80],\n",
    "                  'min_samples_leaf': [10, 30, 60, 80]\n",
    "                 }\n",
    "            \n",
    "cv = RepeatedStratifiedKFold(n_splits=5, \n",
    "                    n_repeats=3, \n",
    "                    random_state=42)\n",
    "\n",
    "rs_rf = RandomizedSearchCV(RandomForestClassifier(n_jobs=1),\n",
    "                        param_distributions=param_search,\n",
    "                        n_iter=n_iter,\n",
    "                        scoring='f1',\n",
    "                        random_state=42,\n",
    "                        n_jobs=-1,\n",
    "                        cv=cv)\n",
    "\n",
    "rs_rf.fit(x_train, y_train)\n",
    "\n",
    "model, best_score = rs_rf.best_estimator_, rs_rf.best_score_\n",
    "\n",
    "y_pred_test_rf = model.predict(x_test)\n",
    "y_pred_train_rf = model.predict(x_train)"
   ]
  },
  {
   "cell_type": "code",
   "execution_count": 28,
   "metadata": {},
   "outputs": [
    {
     "name": "stdout",
     "output_type": "stream",
     "text": [
      "Verificar overfitting do modelo\n",
      "Balanced Acc. Test:  0.7337824045723617\n",
      "Balanced Acc. Train:  0.9133473914401748\n"
     ]
    }
   ],
   "source": [
    "print(\"Verificar overfitting do modelo\")\n",
    "print(\"Balanced Acc. Test: \", balanced_accuracy_score(y_test, y_pred_test_rf))\n",
    "print(\"Balanced Acc. Train: \", balanced_accuracy_score(y_train, y_pred_train_rf))"
   ]
  },
  {
   "cell_type": "code",
   "execution_count": 32,
   "metadata": {},
   "outputs": [
    {
     "name": "stdout",
     "output_type": "stream",
     "text": [
      "              precision    recall  f1-score   support\n",
      "\n",
      "           0       0.99      0.90      0.94      1065\n",
      "           1       0.11      0.57      0.19        23\n",
      "\n",
      "    accuracy                           0.90      1088\n",
      "   macro avg       0.55      0.73      0.56      1088\n",
      "weighted avg       0.97      0.90      0.93      1088\n",
      "\n"
     ]
    }
   ],
   "source": [
    "print(classification_report(y_test, y_pred_test_rf))"
   ]
  },
  {
   "cell_type": "code",
   "execution_count": 31,
   "metadata": {},
   "outputs": [
    {
     "data": {
      "text/plain": [
       "<sklearn.metrics._plot.confusion_matrix.ConfusionMatrixDisplay at 0x1ada67383a0>"
      ]
     },
     "execution_count": 31,
     "metadata": {},
     "output_type": "execute_result"
    },
    {
     "data": {
      "image/png": "[encoded data removed]",
      "text/plain": [
       "<Figure size 640x480 with 2 Axes>"
      ]
     },
     "metadata": {},
     "output_type": "display_data"
    }
   ],
   "source": [
    "ConfusionMatrixDisplay.from_predictions(y_test, y_pred_test_rf)"
   ]
  },
  {
   "cell_type": "markdown",
   "metadata": {},
   "source": [
    "### LogisticRegression"
   ]
  },
  {
   "cell_type": "code",
   "execution_count": 33,
   "metadata": {},
   "outputs": [],
   "source": [
    "lr = LogisticRegression(random_state=42)\n",
    "lr.fit(x_train, y_train)\n",
    "y_pred_lr = lr.predict(x_test)\n",
    "y_pred_train_lr = lr.predict(x_train)"
   ]
  },
  {
   "cell_type": "code",
   "execution_count": 34,
   "metadata": {},
   "outputs": [
    {
     "name": "stdout",
     "output_type": "stream",
     "text": [
      "Verificar overfitting do modelo\n",
      "Balanced Acc. Test:  0.5\n",
      "Balanced Acc. Train:  0.5\n"
     ]
    }
   ],
   "source": [
    "print(\"Verificar overfitting do modelo\")\n",
    "print(\"Balanced Acc. Test: \", balanced_accuracy_score(y_test, y_pred_lr))\n",
    "print(\"Balanced Acc. Train: \", balanced_accuracy_score(y_train, y_pred_train_lr))"
   ]
  },
  {
   "cell_type": "code",
   "execution_count": 35,
   "metadata": {},
   "outputs": [
    {
     "name": "stdout",
     "output_type": "stream",
     "text": [
      "              precision    recall  f1-score   support\n",
      "\n",
      "           0       0.98      1.00      0.99      1065\n",
      "           1       0.00      0.00      0.00        23\n",
      "\n",
      "    accuracy                           0.98      1088\n",
      "   macro avg       0.49      0.50      0.49      1088\n",
      "weighted avg       0.96      0.98      0.97      1088\n",
      "\n"
     ]
    },
    {
     "name": "stderr",
     "output_type": "stream",
     "text": [
      "c:\\Users\\Ana\\Documents\\biomedica\\informatica_medica\\venv\\lib\\site-packages\\sklearn\\metrics\\_classification.py:1334: UndefinedMetricWarning: Precision and F-score are ill-defined and being set to 0.0 in labels with no predicted samples. Use `zero_division` parameter to control this behavior.\n",
      "  _warn_prf(average, modifier, msg_start, len(result))\n",
      "c:\\Users\\Ana\\Documents\\biomedica\\informatica_medica\\venv\\lib\\site-packages\\sklearn\\metrics\\_classification.py:1334: UndefinedMetricWarning: Precision and F-score are ill-defined and being set to 0.0 in labels with no predicted samples. Use `zero_division` parameter to control this behavior.\n",
      "  _warn_prf(average, modifier, msg_start, len(result))\n",
      "c:\\Users\\Ana\\Documents\\biomedica\\informatica_medica\\venv\\lib\\site-packages\\sklearn\\metrics\\_classification.py:1334: UndefinedMetricWarning: Precision and F-score are ill-defined and being set to 0.0 in labels with no predicted samples. Use `zero_division` parameter to control this behavior.\n",
      "  _warn_prf(average, modifier, msg_start, len(result))\n"
     ]
    }
   ],
   "source": [
    "print(classification_report(y_test, y_pred_lr))"
   ]
  },
  {
   "cell_type": "code",
   "execution_count": 36,
   "metadata": {},
   "outputs": [
    {
     "data": {
      "text/plain": [
       "<sklearn.metrics._plot.confusion_matrix.ConfusionMatrixDisplay at 0x1ada8015820>"
      ]
     },
     "execution_count": 36,
     "metadata": {},
     "output_type": "execute_result"
    },
    {
     "data": {
      "image/png": "[encoded data removed]",
      "text/plain": [
       "<Figure size 640x480 with 2 Axes>"
      ]
     },
     "metadata": {},
     "output_type": "display_data"
    }
   ],
   "source": [
    "ConfusionMatrixDisplay.from_predictions(y_test, y_pred_lr)"
   ]
  },
  {
   "cell_type": "markdown",
   "metadata": {},
   "source": [
    "### KNeighborsClassifier"
   ]
  },
  {
   "cell_type": "code",
   "execution_count": 38,
   "metadata": {},
   "outputs": [],
   "source": [
    "param_search = {'n_neighbors': np.arange(5, 100,5),\n",
    "                'weights':['uniform', 'distance'],\n",
    "                'algorithm':['auto']\n",
    "                }\n",
    "            \n",
    "cv = RepeatedStratifiedKFold(n_splits=5, \n",
    "                    n_repeats=3, \n",
    "                    random_state=42)\n",
    "\n",
    "\n",
    "\n",
    "rs_neigh = RandomizedSearchCV(KNeighborsClassifier(n_jobs=1),\n",
    "                        param_distributions=param_search,\n",
    "                        n_iter=n_iter,\n",
    "                        scoring='f1',\n",
    "                        random_state=42,\n",
    "                        n_jobs=-1,\n",
    "                        cv=cv)\n",
    "\n",
    "rs_neigh.fit(x_train, y_train)\n",
    "\n",
    "model, best_score = rs_neigh.best_estimator_, rs_neigh.best_score_\n",
    "\n",
    "y_pred_test_neigh = model.predict(x_test)\n",
    "y_pred_train_neigh = model.predict(x_train)"
   ]
  },
  {
   "cell_type": "code",
   "execution_count": 39,
   "metadata": {},
   "outputs": [
    {
     "name": "stdout",
     "output_type": "stream",
     "text": [
      "Verificar overfitting do modelo\n",
      "Balanced Acc. Test:  0.6063482343335375\n",
      "Balanced Acc. Train:  0.6578647297719462\n"
     ]
    }
   ],
   "source": [
    "print(\"Verificar overfitting do modelo\")\n",
    "print(\"Balanced Acc. Test: \", balanced_accuracy_score(y_test, y_pred_test_neigh))\n",
    "print(\"Balanced Acc. Train: \", balanced_accuracy_score(y_train, y_pred_train_neigh))"
   ]
  },
  {
   "cell_type": "code",
   "execution_count": 40,
   "metadata": {},
   "outputs": [
    {
     "name": "stdout",
     "output_type": "stream",
     "text": [
      "              precision    recall  f1-score   support\n",
      "\n",
      "           0       0.98      1.00      0.99      1065\n",
      "           1       0.50      0.22      0.30        23\n",
      "\n",
      "    accuracy                           0.98      1088\n",
      "   macro avg       0.74      0.61      0.65      1088\n",
      "weighted avg       0.97      0.98      0.97      1088\n",
      "\n"
     ]
    }
   ],
   "source": [
    "print(classification_report(y_test, y_pred_test_neigh))"
   ]
  },
  {
   "cell_type": "code",
   "execution_count": 41,
   "metadata": {},
   "outputs": [
    {
     "data": {
      "text/plain": [
       "<sklearn.metrics._plot.confusion_matrix.ConfusionMatrixDisplay at 0x1ada4bc9e50>"
      ]
     },
     "execution_count": 41,
     "metadata": {},
     "output_type": "execute_result"
    },
    {
     "data": {
      "image/png": "[encoded data removed]",
      "text/plain": [
       "<Figure size 640x480 with 2 Axes>"
      ]
     },
     "metadata": {},
     "output_type": "display_data"
    }
   ],
   "source": [
    "ConfusionMatrixDisplay.from_predictions(y_test, y_pred_test_neigh)"
   ]
  }
 ],
 "metadata": {
  "kernelspec": {
   "display_name": "Python 3.8.10 ('venv': venv)",
   "language": "python",
   "name": "python3"
  },
  "language_info": {
   "codemirror_mode": {
    "name": "ipython",
    "version": 3
   },
   "file_extension": ".py",
   "mimetype": "text/x-python",
   "name": "python",
   "nbconvert_exporter": "python",
   "pygments_lexer": "ipython3",
   "version": "3.8.10"
  },
  "orig_nbformat": 4,
  "vscode": {
   "interpreter": {
    "hash": "87492c49a5d45706d1ba679602003c505e606a6b02e2606f5e8ab022e492f0e5"
   }
  }
 },
 "nbformat": 4,
 "nbformat_minor": 2
}
