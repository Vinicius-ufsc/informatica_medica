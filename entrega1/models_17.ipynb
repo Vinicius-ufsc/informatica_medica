{
 "cells": [
  {
   "cell_type": "code",
   "execution_count": 1,
   "metadata": {},
   "outputs": [],
   "source": [
    "import pandas as pd\n",
    "import numpy as np\n",
    "\n",
    "from sklearn.neighbors import KNeighborsClassifier\n",
    "from sklearn.ensemble import RandomForestClassifier\n",
    "from sklearn.linear_model import LogisticRegression\n",
    "from sklearn.model_selection import RandomizedSearchCV, RepeatedStratifiedKFold\n",
    "\n",
    "from sklearn.metrics import classification_report, ConfusionMatrixDisplay, balanced_accuracy_score\n",
    "\n",
    "from sklearn.model_selection import train_test_split\n",
    "\n",
    "from sklearn.preprocessing import StandardScaler\n",
    "\n",
    "from sklearn.feature_selection import SelectKBest\n",
    "\n",
    "import matplotlib.pyplot as plt\n",
    "import seaborn as sns\n"
   ]
  },
  {
   "cell_type": "code",
   "execution_count": 2,
   "metadata": {},
   "outputs": [],
   "source": [
    "df_vfc = pd.read_csv(\"vfc_dataset_janela-17_fs-80.csv\")"
   ]
  },
  {
   "cell_type": "markdown",
   "metadata": {},
   "source": [
    "### Tratando dados nulos"
   ]
  },
  {
   "cell_type": "code",
   "execution_count": 3,
   "metadata": {},
   "outputs": [
    {
     "name": "stderr",
     "output_type": "stream",
     "text": [
      "C:\\Users\\Ana\\AppData\\Local\\Temp\\ipykernel_10616\\3876734435.py:1: FutureWarning: In a future version of pandas all arguments of DataFrame.any and Series.any will be keyword-only.\n",
      "  cols_drop = df_vfc[df_vfc.columns[df_vfc.isin([np.nan, np.inf, -np.inf]).any(0)]].columns\n"
     ]
    }
   ],
   "source": [
    "cols_drop = df_vfc[df_vfc.columns[df_vfc.isin([np.nan, np.inf, -np.inf]).any(0)]].columns"
   ]
  },
  {
   "cell_type": "code",
   "execution_count": 4,
   "metadata": {},
   "outputs": [
    {
     "data": {
      "text/plain": [
       "Index(['mean_hr', 'max_hr', 'std_hr', 'lf_hf_ratio', 'lfnu', 'hfnu'], dtype='object')"
      ]
     },
     "execution_count": 4,
     "metadata": {},
     "output_type": "execute_result"
    }
   ],
   "source": [
    "cols_drop"
   ]
  },
  {
   "cell_type": "code",
   "execution_count": 5,
   "metadata": {},
   "outputs": [
    {
     "name": "stdout",
     "output_type": "stream",
     "text": [
      "Antes de remover os dados nulos e infitos:  (4349, 24)\n",
      "Depois de remover os dados nulos e infitos:  (4349, 18)\n"
     ]
    }
   ],
   "source": [
    "print(\"Antes de remover os dados nulos e infitos: \", df_vfc.shape)\n",
    "\n",
    "df_vfc_clean = df_vfc.drop(columns=cols_drop)\n",
    "\n",
    "print(\"Depois de remover os dados nulos e infitos: \", df_vfc_clean.shape)"
   ]
  },
  {
   "cell_type": "markdown",
   "metadata": {},
   "source": [
    "### Normalizando os dados"
   ]
  },
  {
   "cell_type": "code",
   "execution_count": 6,
   "metadata": {},
   "outputs": [],
   "source": [
    "X = df_vfc_clean.drop([\"labels\"],axis=1)\n",
    "Y = df_vfc_clean[\"labels\"]\n",
    "\n",
    "cols = X.columns.tolist()\n",
    "\n",
    "scaler_features = StandardScaler()\n",
    "\n",
    "df_scaled= scaler_features.fit_transform(X)\n",
    "df_scaled = pd.DataFrame(df_scaled, columns=cols)   \n",
    "\n",
    "df_scaled.reset_index(drop=True,inplace=True)\n",
    "\n",
    "Y.reset_index(drop=True, inplace=True)\n",
    "\n",
    "df_scaled[\"labels\"] = Y.copy()"
   ]
  },
  {
   "cell_type": "code",
   "execution_count": 7,
   "metadata": {},
   "outputs": [
    {
     "data": {
      "text/html": [
       "<div>\n",
       "<style scoped>\n",
       "    .dataframe tbody tr th:only-of-type {\n",
       "        vertical-align: middle;\n",
       "    }\n",
       "\n",
       "    .dataframe tbody tr th {\n",
       "        vertical-align: top;\n",
       "    }\n",
       "\n",
       "    .dataframe thead th {\n",
       "        text-align: right;\n",
       "    }\n",
       "</style>\n",
       "<table border=\"1\" class=\"dataframe\">\n",
       "  <thead>\n",
       "    <tr style=\"text-align: right;\">\n",
       "      <th></th>\n",
       "      <th>mean_nni</th>\n",
       "      <th>sdnn</th>\n",
       "      <th>sdsd</th>\n",
       "      <th>nni_50</th>\n",
       "      <th>pnni_50</th>\n",
       "      <th>nni_20</th>\n",
       "      <th>pnni_20</th>\n",
       "      <th>rmssd</th>\n",
       "      <th>median_nni</th>\n",
       "      <th>range_nni</th>\n",
       "      <th>cvsd</th>\n",
       "      <th>cvnni</th>\n",
       "      <th>min_hr</th>\n",
       "      <th>lf</th>\n",
       "      <th>hf</th>\n",
       "      <th>total_power</th>\n",
       "      <th>vlf</th>\n",
       "      <th>labels</th>\n",
       "    </tr>\n",
       "  </thead>\n",
       "  <tbody>\n",
       "    <tr>\n",
       "      <th>0</th>\n",
       "      <td>-2.786197</td>\n",
       "      <td>-0.870013</td>\n",
       "      <td>-0.791224</td>\n",
       "      <td>0.0</td>\n",
       "      <td>0.0</td>\n",
       "      <td>0.0</td>\n",
       "      <td>0.0</td>\n",
       "      <td>-0.788048</td>\n",
       "      <td>-2.800981</td>\n",
       "      <td>-0.807138</td>\n",
       "      <td>-0.612957</td>\n",
       "      <td>-0.664377</td>\n",
       "      <td>4.391060</td>\n",
       "      <td>-0.24394</td>\n",
       "      <td>-0.24394</td>\n",
       "      <td>-0.24394</td>\n",
       "      <td>-0.24394</td>\n",
       "      <td>1</td>\n",
       "    </tr>\n",
       "    <tr>\n",
       "      <th>1</th>\n",
       "      <td>-2.747960</td>\n",
       "      <td>-0.713994</td>\n",
       "      <td>-0.725992</td>\n",
       "      <td>0.0</td>\n",
       "      <td>0.0</td>\n",
       "      <td>0.0</td>\n",
       "      <td>0.0</td>\n",
       "      <td>-0.722719</td>\n",
       "      <td>-2.720314</td>\n",
       "      <td>-0.734624</td>\n",
       "      <td>-0.517160</td>\n",
       "      <td>-0.437290</td>\n",
       "      <td>4.187320</td>\n",
       "      <td>-0.24394</td>\n",
       "      <td>-0.24394</td>\n",
       "      <td>-0.24394</td>\n",
       "      <td>-0.24394</td>\n",
       "      <td>1</td>\n",
       "    </tr>\n",
       "    <tr>\n",
       "      <th>2</th>\n",
       "      <td>-2.712113</td>\n",
       "      <td>-0.827035</td>\n",
       "      <td>-0.696244</td>\n",
       "      <td>0.0</td>\n",
       "      <td>0.0</td>\n",
       "      <td>0.0</td>\n",
       "      <td>0.0</td>\n",
       "      <td>-0.693418</td>\n",
       "      <td>-2.679981</td>\n",
       "      <td>-0.734624</td>\n",
       "      <td>-0.476572</td>\n",
       "      <td>-0.606735</td>\n",
       "      <td>4.088506</td>\n",
       "      <td>-0.24394</td>\n",
       "      <td>-0.24394</td>\n",
       "      <td>-0.24394</td>\n",
       "      <td>-0.24394</td>\n",
       "      <td>1</td>\n",
       "    </tr>\n",
       "    <tr>\n",
       "      <th>3</th>\n",
       "      <td>-2.595012</td>\n",
       "      <td>-0.802306</td>\n",
       "      <td>-0.868687</td>\n",
       "      <td>0.0</td>\n",
       "      <td>0.0</td>\n",
       "      <td>0.0</td>\n",
       "      <td>0.0</td>\n",
       "      <td>-0.854370</td>\n",
       "      <td>-2.599314</td>\n",
       "      <td>-0.770881</td>\n",
       "      <td>-0.719782</td>\n",
       "      <td>-0.581140</td>\n",
       "      <td>3.896691</td>\n",
       "      <td>-0.24394</td>\n",
       "      <td>-0.24394</td>\n",
       "      <td>-0.24394</td>\n",
       "      <td>-0.24394</td>\n",
       "      <td>1</td>\n",
       "    </tr>\n",
       "    <tr>\n",
       "      <th>4</th>\n",
       "      <td>-2.716892</td>\n",
       "      <td>-0.368650</td>\n",
       "      <td>-0.628483</td>\n",
       "      <td>0.0</td>\n",
       "      <td>0.0</td>\n",
       "      <td>0.0</td>\n",
       "      <td>0.0</td>\n",
       "      <td>-0.621211</td>\n",
       "      <td>-2.841314</td>\n",
       "      <td>-0.517080</td>\n",
       "      <td>-0.368568</td>\n",
       "      <td>0.063234</td>\n",
       "      <td>3.622670</td>\n",
       "      <td>-0.24394</td>\n",
       "      <td>-0.24394</td>\n",
       "      <td>-0.24394</td>\n",
       "      <td>-0.24394</td>\n",
       "      <td>1</td>\n",
       "    </tr>\n",
       "  </tbody>\n",
       "</table>\n",
       "</div>"
      ],
      "text/plain": [
       "   mean_nni      sdnn      sdsd  nni_50  pnni_50  nni_20  pnni_20     rmssd  \\\n",
       "0 -2.786197 -0.870013 -0.791224     0.0      0.0     0.0      0.0 -0.788048   \n",
       "1 -2.747960 -0.713994 -0.725992     0.0      0.0     0.0      0.0 -0.722719   \n",
       "2 -2.712113 -0.827035 -0.696244     0.0      0.0     0.0      0.0 -0.693418   \n",
       "3 -2.595012 -0.802306 -0.868687     0.0      0.0     0.0      0.0 -0.854370   \n",
       "4 -2.716892 -0.368650 -0.628483     0.0      0.0     0.0      0.0 -0.621211   \n",
       "\n",
       "   median_nni  range_nni      cvsd     cvnni    min_hr       lf       hf  \\\n",
       "0   -2.800981  -0.807138 -0.612957 -0.664377  4.391060 -0.24394 -0.24394   \n",
       "1   -2.720314  -0.734624 -0.517160 -0.437290  4.187320 -0.24394 -0.24394   \n",
       "2   -2.679981  -0.734624 -0.476572 -0.606735  4.088506 -0.24394 -0.24394   \n",
       "3   -2.599314  -0.770881 -0.719782 -0.581140  3.896691 -0.24394 -0.24394   \n",
       "4   -2.841314  -0.517080 -0.368568  0.063234  3.622670 -0.24394 -0.24394   \n",
       "\n",
       "   total_power      vlf  labels  \n",
       "0     -0.24394 -0.24394       1  \n",
       "1     -0.24394 -0.24394       1  \n",
       "2     -0.24394 -0.24394       1  \n",
       "3     -0.24394 -0.24394       1  \n",
       "4     -0.24394 -0.24394       1  "
      ]
     },
     "execution_count": 7,
     "metadata": {},
     "output_type": "execute_result"
    }
   ],
   "source": [
    "df_scaled.head()"
   ]
  },
  {
   "cell_type": "markdown",
   "metadata": {},
   "source": [
    "### Escolha das features"
   ]
  },
  {
   "cell_type": "code",
   "execution_count": 8,
   "metadata": {},
   "outputs": [],
   "source": [
    "x_train, x_test, y_train, y_test = train_test_split(df_scaled.drop(columns=['labels']), df_scaled['labels'], random_state=42)"
   ]
  },
  {
   "cell_type": "code",
   "execution_count": 9,
   "metadata": {},
   "outputs": [
    {
     "name": "stderr",
     "output_type": "stream",
     "text": [
      "c:\\Users\\Ana\\Documents\\biomedica\\informatica_medica\\venv\\lib\\site-packages\\sklearn\\feature_selection\\_univariate_selection.py:110: UserWarning: Features [3 4 5 6] are constant.\n",
      "  warnings.warn(\"Features %s are constant.\" % constant_features_idx, UserWarning)\n",
      "c:\\Users\\Ana\\Documents\\biomedica\\informatica_medica\\venv\\lib\\site-packages\\sklearn\\feature_selection\\_univariate_selection.py:111: RuntimeWarning: invalid value encountered in divide\n",
      "  f = msb / msw\n"
     ]
    },
    {
     "data": {
      "image/png": "[encoded data removed]",
      "text/plain": [
       "<Figure size 1300x800 with 1 Axes>"
      ]
     },
     "metadata": {},
     "output_type": "display_data"
    }
   ],
   "source": [
    "features_to_use = SelectKBest(k='all')\n",
    "\n",
    "features_fit = features_to_use.fit(x_train, y_train)\n",
    "\n",
    "df_scores = pd.DataFrame({'feature': x_train.columns.tolist(), 'score': list(features_fit.scores_)})\n",
    "df_scores.sort_values(by='score', axis=0, ascending=False, inplace=True)\n",
    "\n",
    "plt.figure(figsize=(13,8))\n",
    "plt.grid(True)\n",
    "sns.barplot(x=df_scores.score, y=df_scores.feature, palette='Blues_d')\n",
    "plt.tight_layout()"
   ]
  },
  {
   "cell_type": "code",
   "execution_count": 10,
   "metadata": {},
   "outputs": [],
   "source": [
    "cols_select = ['mean_nni', 'median_nni', 'cvnni', 'cvsd', 'min_hr', 'sdnn', 'range_nni', 'sdsd', 'rmssd']\n",
    "\n",
    "x_train = x_train[cols_select]\n",
    "\n",
    "x_test = x_test[cols_select]"
   ]
  },
  {
   "cell_type": "markdown",
   "metadata": {},
   "source": [
    "### Random Forest Classifier"
   ]
  },
  {
   "cell_type": "code",
   "execution_count": 11,
   "metadata": {},
   "outputs": [],
   "source": [
    "n_iter = 20"
   ]
  },
  {
   "cell_type": "code",
   "execution_count": 12,
   "metadata": {},
   "outputs": [],
   "source": [
    "param_search = {'n_estimators': [400],\n",
    "                  'oob_score': [False],\n",
    "                  'criterion': ['gini'],\n",
    "                  'bootstrap':[True],\n",
    "                  'class_weight':['balanced_subsample'],\n",
    "                  'min_weight_fraction_leaf':[0, 0.1, 0.2, 0.3, 0.4, 0.5], \n",
    "                  'min_impurity_decrease':[0, 0.1],\n",
    "                  'min_samples_split': [10, 30, 60, 80],\n",
    "                  'min_samples_leaf': [10, 30, 60, 80]\n",
    "                 }\n",
    "            \n",
    "cv = RepeatedStratifiedKFold(n_splits=5, \n",
    "                    n_repeats=3, \n",
    "                    random_state=42)\n",
    "\n",
    "rs_rf = RandomizedSearchCV(RandomForestClassifier(n_jobs=1),\n",
    "                        param_distributions=param_search,\n",
    "                        n_iter=n_iter,\n",
    "                        scoring='f1',\n",
    "                        random_state=42,\n",
    "                        n_jobs=-1,\n",
    "                        cv=cv)\n",
    "\n",
    "rs_rf.fit(x_train, y_train)\n",
    "\n",
    "model, best_score = rs_rf.best_estimator_, rs_rf.best_score_\n",
    "\n",
    "y_pred_test_rf = model.predict(x_test)\n",
    "y_pred_train_rf = model.predict(x_train)"
   ]
  },
  {
   "cell_type": "code",
   "execution_count": 13,
   "metadata": {},
   "outputs": [
    {
     "name": "stdout",
     "output_type": "stream",
     "text": [
      "Verificar overfitting do modelo\n",
      "Balanced Acc. Test:  0.8903668861712135\n",
      "Balanced Acc. Train:  0.9687792694349048\n"
     ]
    }
   ],
   "source": [
    "print(\"Verificar overfitting do modelo\")\n",
    "print(\"Balanced Acc. Test: \", balanced_accuracy_score(y_test, y_pred_test_rf))\n",
    "print(\"Balanced Acc. Train: \", balanced_accuracy_score(y_train, y_pred_train_rf))"
   ]
  },
  {
   "cell_type": "code",
   "execution_count": 14,
   "metadata": {},
   "outputs": [
    {
     "name": "stdout",
     "output_type": "stream",
     "text": [
      "              precision    recall  f1-score   support\n",
      "\n",
      "           0       1.00      0.94      0.97      1063\n",
      "           1       0.25      0.84      0.39        25\n",
      "\n",
      "    accuracy                           0.94      1088\n",
      "   macro avg       0.62      0.89      0.68      1088\n",
      "weighted avg       0.98      0.94      0.95      1088\n",
      "\n"
     ]
    }
   ],
   "source": [
    "print(classification_report(y_test, y_pred_test_rf))"
   ]
  },
  {
   "cell_type": "code",
   "execution_count": 15,
   "metadata": {},
   "outputs": [
    {
     "data": {
      "text/plain": [
       "<sklearn.metrics._plot.confusion_matrix.ConfusionMatrixDisplay at 0x29f5eb8b070>"
      ]
     },
     "execution_count": 15,
     "metadata": {},
     "output_type": "execute_result"
    },
    {
     "data": {
      "image/png": "[encoded data removed]",
      "text/plain": [
       "<Figure size 640x480 with 2 Axes>"
      ]
     },
     "metadata": {},
     "output_type": "display_data"
    }
   ],
   "source": [
    "ConfusionMatrixDisplay.from_predictions(y_test, y_pred_test_rf)"
   ]
  },
  {
   "cell_type": "markdown",
   "metadata": {},
   "source": [
    "### LogisticRegression"
   ]
  },
  {
   "cell_type": "code",
   "execution_count": 16,
   "metadata": {},
   "outputs": [],
   "source": [
    "lr = LogisticRegression(random_state=42)\n",
    "lr.fit(x_train, y_train)\n",
    "y_pred_lr = lr.predict(x_test)\n",
    "y_pred_train_lr = lr.predict(x_train)"
   ]
  },
  {
   "cell_type": "code",
   "execution_count": 17,
   "metadata": {},
   "outputs": [
    {
     "name": "stdout",
     "output_type": "stream",
     "text": [
      "Verificar overfitting do modelo\n",
      "Balanced Acc. Test:  0.6176481655691439\n",
      "Balanced Acc. Train:  0.6025116539451161\n"
     ]
    }
   ],
   "source": [
    "print(\"Verificar overfitting do modelo\")\n",
    "print(\"Balanced Acc. Test: \", balanced_accuracy_score(y_test, y_pred_lr))\n",
    "print(\"Balanced Acc. Train: \", balanced_accuracy_score(y_train, y_pred_train_lr))"
   ]
  },
  {
   "cell_type": "code",
   "execution_count": 18,
   "metadata": {},
   "outputs": [
    {
     "name": "stdout",
     "output_type": "stream",
     "text": [
      "              precision    recall  f1-score   support\n",
      "\n",
      "           0       0.98      1.00      0.99      1063\n",
      "           1       0.55      0.24      0.33        25\n",
      "\n",
      "    accuracy                           0.98      1088\n",
      "   macro avg       0.76      0.62      0.66      1088\n",
      "weighted avg       0.97      0.98      0.97      1088\n",
      "\n"
     ]
    }
   ],
   "source": [
    "print(classification_report(y_test, y_pred_lr))"
   ]
  },
  {
   "cell_type": "code",
   "execution_count": 19,
   "metadata": {},
   "outputs": [
    {
     "data": {
      "text/plain": [
       "<sklearn.metrics._plot.confusion_matrix.ConfusionMatrixDisplay at 0x29f1bbc0a00>"
      ]
     },
     "execution_count": 19,
     "metadata": {},
     "output_type": "execute_result"
    },
    {
     "data": {
      "image/png": "[encoded data removed]",
      "text/plain": [
       "<Figure size 640x480 with 2 Axes>"
      ]
     },
     "metadata": {},
     "output_type": "display_data"
    }
   ],
   "source": [
    "ConfusionMatrixDisplay.from_predictions(y_test, y_pred_lr)"
   ]
  },
  {
   "cell_type": "markdown",
   "metadata": {},
   "source": [
    "### KNeighborsClassifier"
   ]
  },
  {
   "cell_type": "code",
   "execution_count": 20,
   "metadata": {},
   "outputs": [],
   "source": [
    "param_search = {'n_neighbors': np.arange(5, 100,5),\n",
    "                'weights':['uniform', 'distance'],\n",
    "                'algorithm':['auto']\n",
    "                }\n",
    "            \n",
    "cv = RepeatedStratifiedKFold(n_splits=5, \n",
    "                    n_repeats=3, \n",
    "                    random_state=42)\n",
    "\n",
    "\n",
    "\n",
    "rs_neigh = RandomizedSearchCV(KNeighborsClassifier(n_jobs=1),\n",
    "                        param_distributions=param_search,\n",
    "                        n_iter=n_iter,\n",
    "                        scoring='f1',\n",
    "                        random_state=42,\n",
    "                        n_jobs=-1,\n",
    "                        cv=cv)\n",
    "\n",
    "rs_neigh.fit(x_train, y_train)\n",
    "\n",
    "model, best_score = rs_neigh.best_estimator_, rs_neigh.best_score_\n",
    "\n",
    "y_pred_test_neigh = model.predict(x_test)\n",
    "y_pred_train_neigh = model.predict(x_train)"
   ]
  },
  {
   "cell_type": "code",
   "execution_count": 21,
   "metadata": {},
   "outputs": [
    {
     "name": "stdout",
     "output_type": "stream",
     "text": [
      "Verificar overfitting do modelo\n",
      "Balanced Acc. Test:  0.537648165569144\n",
      "Balanced Acc. Train:  0.6628564815313229\n"
     ]
    }
   ],
   "source": [
    "print(\"Verificar overfitting do modelo\")\n",
    "print(\"Balanced Acc. Test: \", balanced_accuracy_score(y_test, y_pred_test_neigh))\n",
    "print(\"Balanced Acc. Train: \", balanced_accuracy_score(y_train, y_pred_train_neigh))"
   ]
  },
  {
   "cell_type": "code",
   "execution_count": 22,
   "metadata": {},
   "outputs": [
    {
     "name": "stdout",
     "output_type": "stream",
     "text": [
      "              precision    recall  f1-score   support\n",
      "\n",
      "           0       0.98      1.00      0.99      1063\n",
      "           1       0.29      0.08      0.12        25\n",
      "\n",
      "    accuracy                           0.97      1088\n",
      "   macro avg       0.63      0.54      0.56      1088\n",
      "weighted avg       0.96      0.97      0.97      1088\n",
      "\n"
     ]
    }
   ],
   "source": [
    "print(classification_report(y_test, y_pred_test_neigh))"
   ]
  },
  {
   "cell_type": "code",
   "execution_count": 23,
   "metadata": {},
   "outputs": [
    {
     "data": {
      "text/plain": [
       "<sklearn.metrics._plot.confusion_matrix.ConfusionMatrixDisplay at 0x29f5ed15cd0>"
      ]
     },
     "execution_count": 23,
     "metadata": {},
     "output_type": "execute_result"
    },
    {
     "data": {
      "image/png": "[encoded data removed]",
      "text/plain": [
       "<Figure size 640x480 with 2 Axes>"
      ]
     },
     "metadata": {},
     "output_type": "display_data"
    }
   ],
   "source": [
    "ConfusionMatrixDisplay.from_predictions(y_test, y_pred_test_neigh)"
   ]
  }
 ],
 "metadata": {
  "kernelspec": {
   "display_name": "Python 3.8.10 ('venv': venv)",
   "language": "python",
   "name": "python3"
  },
  "language_info": {
   "codemirror_mode": {
    "name": "ipython",
    "version": 3
   },
   "file_extension": ".py",
   "mimetype": "text/x-python",
   "name": "python",
   "nbconvert_exporter": "python",
   "pygments_lexer": "ipython3",
   "version": "3.8.10"
  },
  "orig_nbformat": 4,
  "vscode": {
   "interpreter": {
    "hash": "87492c49a5d45706d1ba679602003c505e606a6b02e2606f5e8ab022e492f0e5"
   }
  }
 },
 "nbformat": 4,
 "nbformat_minor": 2
}
