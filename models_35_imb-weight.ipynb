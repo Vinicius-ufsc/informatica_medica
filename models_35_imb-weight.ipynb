{
 "cells": [
  {
   "cell_type": "code",
   "execution_count": 2,
   "metadata": {},
   "outputs": [],
   "source": [
    "import pandas as pd\n",
    "import numpy as np\n",
    "\n",
    "from sklearn.neighbors import KNeighborsClassifier\n",
    "from sklearn.ensemble import RandomForestClassifier\n",
    "from sklearn.linear_model import LogisticRegression\n",
    "from sklearn.model_selection import RandomizedSearchCV, RepeatedStratifiedKFold\n",
    "\n",
    "from sklearn.metrics import classification_report, ConfusionMatrixDisplay, balanced_accuracy_score\n",
    "\n",
    "from sklearn.model_selection import train_test_split\n",
    "\n",
    "from sklearn.preprocessing import StandardScaler\n",
    "\n",
    "from sklearn.feature_selection import SelectKBest\n",
    "\n",
    "import matplotlib.pyplot as plt\n",
    "import seaborn as sns\n",
    "\n",
    "from sklearn.datasets import make_classification\n",
    "from imblearn.over_sampling import RandomOverSampler\n",
    "from imblearn.over_sampling import SMOTE, ADASYN\n",
    "from collections import Counter"
   ]
  },
  {
   "cell_type": "markdown",
   "metadata": {},
   "source": [
    "Este notebook lê o dataset, trata as amostras e treina 3 modelos de classificação\n",
    "com seus devidos parâmetros."
   ]
  },
  {
   "cell_type": "code",
   "execution_count": 30,
   "metadata": {},
   "outputs": [],
   "source": [
    "# Lendo o arquivo de dados.\n",
    "df_vfc = pd.read_csv(\"vfc_dataset_janela-35_fs-80.csv\")"
   ]
  },
  {
   "cell_type": "markdown",
   "metadata": {},
   "source": [
    "### Tratando dados nulos"
   ]
  },
  {
   "cell_type": "code",
   "execution_count": 31,
   "metadata": {},
   "outputs": [
    {
     "name": "stderr",
     "output_type": "stream",
     "text": [
      "C:\\Users\\Vinc\\AppData\\Local\\Temp\\ipykernel_9068\\3052952781.py:1: FutureWarning: In a future version of pandas all arguments of DataFrame.any and Series.any will be keyword-only.\n",
      "  cols_drop = df_vfc[df_vfc.columns[df_vfc.isin([np.nan, np.inf, -np.inf]).any(0)]].columns\n"
     ]
    },
    {
     "data": {
      "text/plain": [
       "Index(['mean_hr', 'max_hr', 'std_hr', 'lf_hf_ratio', 'lfnu', 'hfnu'], dtype='object')"
      ]
     },
     "execution_count": 31,
     "metadata": {},
     "output_type": "execute_result"
    }
   ],
   "source": [
    "cols_drop = df_vfc[df_vfc.columns[df_vfc.isin([np.nan, np.inf, -np.inf]).any(0)]].columns\n",
    "cols_drop"
   ]
  },
  {
   "cell_type": "code",
   "execution_count": 32,
   "metadata": {},
   "outputs": [
    {
     "name": "stdout",
     "output_type": "stream",
     "text": [
      "Antes de remover os dados nulos e infitos:  (2112, 24)\n",
      "Depois de remover os dados nulos e infitos:  (2112, 18)\n"
     ]
    }
   ],
   "source": [
    "print(\"Antes de remover os dados nulos e infitos: \", df_vfc.shape)\n",
    "\n",
    "df_vfc_clean = df_vfc.drop(columns=cols_drop)\n",
    "\n",
    "print(\"Depois de remover os dados nulos e infitos: \", df_vfc_clean.shape)"
   ]
  },
  {
   "cell_type": "markdown",
   "metadata": {},
   "source": [
    "### Normalizando os dados"
   ]
  },
  {
   "cell_type": "code",
   "execution_count": 33,
   "metadata": {},
   "outputs": [],
   "source": [
    "X = df_vfc_clean.drop([\"labels\"],axis=1)\n",
    "Y = df_vfc_clean[\"labels\"]\n",
    "\n",
    "cols = X.columns.tolist()\n",
    "\n",
    "scaler_features = StandardScaler()\n",
    "\n",
    "df_scaled= scaler_features.fit_transform(X)\n",
    "df_scaled = pd.DataFrame(df_scaled, columns=cols)   \n",
    "\n",
    "df_scaled.reset_index(drop=True,inplace=True)\n",
    "\n",
    "Y.reset_index(drop=True, inplace=True)\n",
    "\n",
    "df_scaled[\"labels\"] = Y.copy()"
   ]
  },
  {
   "cell_type": "code",
   "execution_count": 34,
   "metadata": {},
   "outputs": [
    {
     "data": {
      "text/html": [
       "<div>\n",
       "<style scoped>\n",
       "    .dataframe tbody tr th:only-of-type {\n",
       "        vertical-align: middle;\n",
       "    }\n",
       "\n",
       "    .dataframe tbody tr th {\n",
       "        vertical-align: top;\n",
       "    }\n",
       "\n",
       "    .dataframe thead th {\n",
       "        text-align: right;\n",
       "    }\n",
       "</style>\n",
       "<table border=\"1\" class=\"dataframe\">\n",
       "  <thead>\n",
       "    <tr style=\"text-align: right;\">\n",
       "      <th></th>\n",
       "      <th>mean_nni</th>\n",
       "      <th>sdnn</th>\n",
       "      <th>sdsd</th>\n",
       "      <th>nni_50</th>\n",
       "      <th>pnni_50</th>\n",
       "      <th>nni_20</th>\n",
       "      <th>pnni_20</th>\n",
       "      <th>rmssd</th>\n",
       "      <th>median_nni</th>\n",
       "      <th>range_nni</th>\n",
       "      <th>cvsd</th>\n",
       "      <th>cvnni</th>\n",
       "      <th>min_hr</th>\n",
       "      <th>lf</th>\n",
       "      <th>hf</th>\n",
       "      <th>total_power</th>\n",
       "      <th>vlf</th>\n",
       "      <th>labels</th>\n",
       "    </tr>\n",
       "  </thead>\n",
       "  <tbody>\n",
       "    <tr>\n",
       "      <th>0</th>\n",
       "      <td>-2.818292</td>\n",
       "      <td>-0.910539</td>\n",
       "      <td>-0.877427</td>\n",
       "      <td>0.0</td>\n",
       "      <td>0.0</td>\n",
       "      <td>0.0</td>\n",
       "      <td>0.0</td>\n",
       "      <td>-0.877649</td>\n",
       "      <td>-2.811033</td>\n",
       "      <td>-0.833402</td>\n",
       "      <td>-0.681656</td>\n",
       "      <td>-0.664116</td>\n",
       "      <td>4.476742</td>\n",
       "      <td>-0.205216</td>\n",
       "      <td>-0.205240</td>\n",
       "      <td>-0.205233</td>\n",
       "      <td>-0.205212</td>\n",
       "      <td>1</td>\n",
       "    </tr>\n",
       "    <tr>\n",
       "      <th>1</th>\n",
       "      <td>-2.692895</td>\n",
       "      <td>-0.848541</td>\n",
       "      <td>-0.864544</td>\n",
       "      <td>0.0</td>\n",
       "      <td>0.0</td>\n",
       "      <td>0.0</td>\n",
       "      <td>0.0</td>\n",
       "      <td>-0.864502</td>\n",
       "      <td>-2.687863</td>\n",
       "      <td>-0.750254</td>\n",
       "      <td>-0.671404</td>\n",
       "      <td>-0.585711</td>\n",
       "      <td>4.079976</td>\n",
       "      <td>-0.227132</td>\n",
       "      <td>-0.227157</td>\n",
       "      <td>-0.227150</td>\n",
       "      <td>-0.227129</td>\n",
       "      <td>1</td>\n",
       "    </tr>\n",
       "    <tr>\n",
       "      <th>2</th>\n",
       "      <td>-2.364025</td>\n",
       "      <td>2.671538</td>\n",
       "      <td>0.188064</td>\n",
       "      <td>0.0</td>\n",
       "      <td>0.0</td>\n",
       "      <td>0.0</td>\n",
       "      <td>0.0</td>\n",
       "      <td>0.216279</td>\n",
       "      <td>-2.811033</td>\n",
       "      <td>1.522476</td>\n",
       "      <td>0.804930</td>\n",
       "      <td>4.160422</td>\n",
       "      <td>-0.242937</td>\n",
       "      <td>-0.166436</td>\n",
       "      <td>-0.166459</td>\n",
       "      <td>-0.166452</td>\n",
       "      <td>-0.166433</td>\n",
       "      <td>1</td>\n",
       "    </tr>\n",
       "    <tr>\n",
       "      <th>3</th>\n",
       "      <td>0.534292</td>\n",
       "      <td>-0.313988</td>\n",
       "      <td>-0.060656</td>\n",
       "      <td>0.0</td>\n",
       "      <td>0.0</td>\n",
       "      <td>0.0</td>\n",
       "      <td>0.0</td>\n",
       "      <td>-0.061500</td>\n",
       "      <td>0.596661</td>\n",
       "      <td>-0.279078</td>\n",
       "      <td>-0.140102</td>\n",
       "      <td>-0.364037</td>\n",
       "      <td>-0.388362</td>\n",
       "      <td>-0.196770</td>\n",
       "      <td>-0.196797</td>\n",
       "      <td>-0.196789</td>\n",
       "      <td>-0.196767</td>\n",
       "      <td>1</td>\n",
       "    </tr>\n",
       "    <tr>\n",
       "      <th>4</th>\n",
       "      <td>-0.425110</td>\n",
       "      <td>2.225900</td>\n",
       "      <td>1.528520</td>\n",
       "      <td>0.0</td>\n",
       "      <td>0.0</td>\n",
       "      <td>0.0</td>\n",
       "      <td>0.0</td>\n",
       "      <td>1.526867</td>\n",
       "      <td>-0.019187</td>\n",
       "      <td>1.051300</td>\n",
       "      <td>1.518384</td>\n",
       "      <td>2.138375</td>\n",
       "      <td>-0.089389</td>\n",
       "      <td>-0.180035</td>\n",
       "      <td>-0.180064</td>\n",
       "      <td>-0.180055</td>\n",
       "      <td>-0.180031</td>\n",
       "      <td>1</td>\n",
       "    </tr>\n",
       "  </tbody>\n",
       "</table>\n",
       "</div>"
      ],
      "text/plain": [
       "   mean_nni      sdnn      sdsd  nni_50  pnni_50  nni_20  pnni_20     rmssd  \\\n",
       "0 -2.818292 -0.910539 -0.877427     0.0      0.0     0.0      0.0 -0.877649   \n",
       "1 -2.692895 -0.848541 -0.864544     0.0      0.0     0.0      0.0 -0.864502   \n",
       "2 -2.364025  2.671538  0.188064     0.0      0.0     0.0      0.0  0.216279   \n",
       "3  0.534292 -0.313988 -0.060656     0.0      0.0     0.0      0.0 -0.061500   \n",
       "4 -0.425110  2.225900  1.528520     0.0      0.0     0.0      0.0  1.526867   \n",
       "\n",
       "   median_nni  range_nni      cvsd     cvnni    min_hr        lf        hf  \\\n",
       "0   -2.811033  -0.833402 -0.681656 -0.664116  4.476742 -0.205216 -0.205240   \n",
       "1   -2.687863  -0.750254 -0.671404 -0.585711  4.079976 -0.227132 -0.227157   \n",
       "2   -2.811033   1.522476  0.804930  4.160422 -0.242937 -0.166436 -0.166459   \n",
       "3    0.596661  -0.279078 -0.140102 -0.364037 -0.388362 -0.196770 -0.196797   \n",
       "4   -0.019187   1.051300  1.518384  2.138375 -0.089389 -0.180035 -0.180064   \n",
       "\n",
       "   total_power       vlf  labels  \n",
       "0    -0.205233 -0.205212       1  \n",
       "1    -0.227150 -0.227129       1  \n",
       "2    -0.166452 -0.166433       1  \n",
       "3    -0.196789 -0.196767       1  \n",
       "4    -0.180055 -0.180031       1  "
      ]
     },
     "execution_count": 34,
     "metadata": {},
     "output_type": "execute_result"
    }
   ],
   "source": [
    "df_scaled.head()"
   ]
  },
  {
   "cell_type": "markdown",
   "metadata": {},
   "source": [
    "### Escolha das features"
   ]
  },
  {
   "cell_type": "code",
   "execution_count": 35,
   "metadata": {},
   "outputs": [],
   "source": [
    "x_train, x_test, y_train, y_test = train_test_split(df_scaled.drop(columns=['labels']), df_scaled['labels'], random_state=42)"
   ]
  },
  {
   "cell_type": "markdown",
   "metadata": {},
   "source": [
    "# Balanceando o dataset\n",
    "\n",
    "https://imbalanced-learn.org/stable/over_sampling.html"
   ]
  },
  {
   "cell_type": "code",
   "execution_count": 36,
   "metadata": {},
   "outputs": [],
   "source": [
    "xheaders = x_train.columns.tolist()\n",
    "\n",
    "# Escola o método de balanceamento (criação de novas amostras).\n",
    "# NAIVE, SMOTE, ADASYN, NONE.\n",
    "resample = 'ADASYN'"
   ]
  },
  {
   "cell_type": "markdown",
   "metadata": {},
   "source": [
    "https://imbalanced-learn.org/stable/references/generated/imblearn.over_sampling.RandomOverSampler.html\n",
    "\n",
    "https://imbalanced-learn.org/stable/references/generated/imblearn.over_sampling.SMOTE.html\n",
    "\n",
    "https://imbalanced-learn.org/dev/references/generated/imblearn.over_sampling.ADASYN.html"
   ]
  },
  {
   "cell_type": "code",
   "execution_count": 37,
   "metadata": {},
   "outputs": [
    {
     "name": "stdout",
     "output_type": "stream",
     "text": [
      "[(0, 1552), (1, 32)]\n",
      "[(0, 1552), (1, 1552)]\n"
     ]
    }
   ],
   "source": [
    "# convertendo o dataset para listas.\n",
    "assert resample in ['NAIVE', 'SMOTE', 'ADASYN', 'NONE'] , \"unknown\"\n",
    "\n",
    "if not resample == \"NONE\":\n",
    "\n",
    "    x_train_list = x_train.values.tolist()\n",
    "    y_train_list = y_train.values.tolist()\n",
    "\n",
    "    print(sorted(Counter(y_train).items()))\n",
    "\n",
    "    ros = RandomOverSampler(random_state=42)\n",
    "\n",
    "    # OBS: havia esquecido de colocar random_state no SMOTE e ADASYN, então os resultados não vão ser iguais \n",
    "    # aos que estão no trabalho.\n",
    "\n",
    "    if resample == 'SMOTE':\n",
    "        X_resampled, y_resampled = SMOTE(random_state = 42).fit_resample(x_train_list, y_train_list)\n",
    "    if resample == 'ADASYN':\n",
    "        X_resampled, y_resampled = ADASYN(random_state = 42).fit_resample(x_train_list, y_train_list)\n",
    "    if resample == 'NAIVE':\n",
    "        X_resampled, y_resampled = ros.fit_resample(x_train_list, y_train_list)\n",
    "    else:\n",
    "        pass\n",
    "\n",
    "    print(sorted(Counter(y_resampled).items()))\n",
    "\n",
    "    # convertendo novamente para dataframe e series.\n",
    "    x_train = pd.DataFrame(X_resampled, columns=xheaders)\n",
    "    y_train = pd.Series(y_resampled)"
   ]
  },
  {
   "cell_type": "markdown",
   "metadata": {},
   "source": [
    "# Grafico de correlação entre as features e labels"
   ]
  },
  {
   "cell_type": "code",
   "execution_count": 38,
   "metadata": {},
   "outputs": [
    {
     "name": "stderr",
     "output_type": "stream",
     "text": [
      "c:\\Users\\Vinc\\anaconda3\\envs\\newer\\lib\\site-packages\\sklearn\\feature_selection\\_univariate_selection.py:110: UserWarning: Features [3 4 5 6] are constant.\n",
      "  warnings.warn(\"Features %s are constant.\" % constant_features_idx, UserWarning)\n",
      "c:\\Users\\Vinc\\anaconda3\\envs\\newer\\lib\\site-packages\\sklearn\\feature_selection\\_univariate_selection.py:111: RuntimeWarning: invalid value encountered in divide\n",
      "  f = msb / msw\n"
     ]
    },
    {
     "data": {
      "image/png": "[encoded data removed]",
      "text/plain": [
       "<Figure size 1300x800 with 1 Axes>"
      ]
     },
     "metadata": {},
     "output_type": "display_data"
    }
   ],
   "source": [
    "features_to_use = SelectKBest(k='all')\n",
    "\n",
    "features_fit = features_to_use.fit(x_train, y_train)\n",
    "\n",
    "df_scores = pd.DataFrame({'feature': x_train.columns.tolist(), 'score': list(features_fit.scores_)})\n",
    "df_scores.sort_values(by='score', axis=0, ascending=False, inplace=True)\n",
    "\n",
    "plt.figure(figsize=(13,8))\n",
    "plt.grid(True)\n",
    "sns.barplot(x=df_scores.score, y=df_scores.feature, palette='Blues_d')\n",
    "plt.tight_layout()"
   ]
  },
  {
   "cell_type": "code",
   "execution_count": 39,
   "metadata": {},
   "outputs": [],
   "source": [
    "cols_select = ['mean_nni', 'median_nni', 'cvnni', 'cvsd', 'min_hr', 'sdnn', 'range_nni', 'sdsd', 'rmssd']\n",
    "\n",
    "x_train = x_train[cols_select]\n",
    "\n",
    "x_test = x_test[cols_select]"
   ]
  },
  {
   "cell_type": "markdown",
   "metadata": {},
   "source": [
    "### Random Forest Classifier"
   ]
  },
  {
   "cell_type": "code",
   "execution_count": 40,
   "metadata": {},
   "outputs": [],
   "source": [
    "n_iter = 20"
   ]
  },
  {
   "cell_type": "code",
   "execution_count": 41,
   "metadata": {},
   "outputs": [],
   "source": [
    "# Escolha os pesos de cada classe, {classe : peso}.\n",
    "weights = ['balanced_subsample', {0: 1, 1: 4}]\n",
    "windex = 0\n",
    "\n",
    "param_search = {'n_estimators': [400],\n",
    "                  'oob_score': [False],\n",
    "                  'criterion': ['gini'],\n",
    "                  'bootstrap':[True],\n",
    "                  'class_weight':[weights[windex]],\n",
    "                  'min_weight_fraction_leaf':[0, 0.1, 0.2, 0.3, 0.4, 0.5], \n",
    "                  'min_impurity_decrease':[0, 0.1],\n",
    "                  'min_samples_split': [10, 30, 60, 80],\n",
    "                  'min_samples_leaf': [10, 30, 60, 80]\n",
    "                 }\n",
    "        \n",
    "cv = RepeatedStratifiedKFold(n_splits=5, \n",
    "                    n_repeats=3, \n",
    "                    random_state=42)\n",
    "\n",
    "rs_rf = RandomizedSearchCV(RandomForestClassifier(n_jobs=1),\n",
    "                        param_distributions=param_search,\n",
    "                        n_iter=n_iter,\n",
    "                        scoring='f1',\n",
    "                        random_state=42,\n",
    "                        n_jobs=-1,\n",
    "                        cv=cv)\n",
    "\n",
    "rs_rf.fit(x_train, y_train)\n",
    "\n",
    "model, best_score = rs_rf.best_estimator_, rs_rf.best_score_\n",
    "\n",
    "y_pred_test_rf = model.predict(x_test)\n",
    "y_pred_train_rf = model.predict(x_train)"
   ]
  },
  {
   "cell_type": "code",
   "execution_count": 45,
   "metadata": {},
   "outputs": [
    {
     "name": "stdout",
     "output_type": "stream",
     "text": [
      "Verificar overfitting do modelo\n",
      "Balanced Acc. Test:  0.9615384615384616\n",
      "Balanced Acc. Train:  0.9423324742268041\n"
     ]
    }
   ],
   "source": [
    "print(\"Verificar overfitting do modelo\")\n",
    "print(\"Balanced Acc. Test: \", balanced_accuracy_score(y_test, y_pred_test_rf))\n",
    "print(\"Balanced Acc. Train: \", balanced_accuracy_score(y_train, y_pred_train_rf))"
   ]
  },
  {
   "cell_type": "code",
   "execution_count": 46,
   "metadata": {},
   "outputs": [
    {
     "name": "stdout",
     "output_type": "stream",
     "text": [
      "Counter({0: 1552, 1: 1552})\n"
     ]
    }
   ],
   "source": [
    "print(Counter(y_train))"
   ]
  },
  {
   "cell_type": "code",
   "execution_count": 47,
   "metadata": {},
   "outputs": [
    {
     "name": "stdout",
     "output_type": "stream",
     "text": [
      "0 {'precision': 1.0, 'recall': 0.9230769230769231, 'f1-score': 0.9600000000000001, 'support': 520}\n",
      "1 {'precision': 0.16666666666666666, 'recall': 1.0, 'f1-score': 0.2857142857142857, 'support': 8}\n"
     ]
    }
   ],
   "source": [
    "results = classification_report(np.array(y_test), y_pred_test_rf, output_dict = True)\n",
    "\n",
    "print('0', results['0'])\n",
    "print('1', results['1'])"
   ]
  },
  {
   "cell_type": "code",
   "execution_count": 48,
   "metadata": {},
   "outputs": [
    {
     "data": {
      "text/plain": [
       "<sklearn.metrics._plot.confusion_matrix.ConfusionMatrixDisplay at 0x1788843f550>"
      ]
     },
     "execution_count": 48,
     "metadata": {},
     "output_type": "execute_result"
    },
    {
     "data": {
      "image/png": "[encoded data removed]",
      "text/plain": [
       "<Figure size 640x480 with 2 Axes>"
      ]
     },
     "metadata": {},
     "output_type": "display_data"
    }
   ],
   "source": [
    "\n",
    "ConfusionMatrixDisplay.from_predictions(np.array(y_test), y_pred_test_rf)"
   ]
  },
  {
   "cell_type": "markdown",
   "metadata": {},
   "source": [
    "### LogisticRegression"
   ]
  },
  {
   "cell_type": "code",
   "execution_count": 49,
   "metadata": {},
   "outputs": [],
   "source": [
    "# Escolha os pesos de cada classe, {classe : peso}.\n",
    "weights = [{0: 1, 1: 1}, {0: 1, 1: 80}, {0: 1, 1: 90}]\n",
    "windex = 0\n",
    "\n",
    "lr = LogisticRegression(random_state=42 , class_weight = weights[windex]) \n",
    "lr.fit(x_train, y_train)\n",
    "y_pred_lr = lr.predict(x_test)\n",
    "y_pred_train_lr = lr.predict(x_train)"
   ]
  },
  {
   "cell_type": "code",
   "execution_count": 50,
   "metadata": {},
   "outputs": [
    {
     "name": "stdout",
     "output_type": "stream",
     "text": [
      "Verificar overfitting do modelo\n",
      "Balanced Acc. Test:  0.8336538461538461\n",
      "Balanced Acc. Train:  0.9394329896907216\n"
     ]
    }
   ],
   "source": [
    "print(\"Verificar overfitting do modelo\")\n",
    "print(\"Balanced Acc. Test: \", balanced_accuracy_score(y_test, y_pred_lr))\n",
    "print(\"Balanced Acc. Train: \", balanced_accuracy_score(y_train, y_pred_train_lr))"
   ]
  },
  {
   "cell_type": "code",
   "execution_count": 51,
   "metadata": {},
   "outputs": [
    {
     "name": "stdout",
     "output_type": "stream",
     "text": [
      "0 {'precision': 0.9958246346555324, 'recall': 0.9173076923076923, 'f1-score': 0.954954954954955, 'support': 520}\n",
      "1 {'precision': 0.12244897959183673, 'recall': 0.75, 'f1-score': 0.21052631578947364, 'support': 8}\n"
     ]
    }
   ],
   "source": [
    "#print(classification_report(y_test, y_pred_lr))\n",
    "\n",
    "results = classification_report(np.array(y_test), y_pred_lr, output_dict = True)\n",
    "\n",
    "print('0', results['0'])\n",
    "print('1', results['1'])"
   ]
  },
  {
   "cell_type": "code",
   "execution_count": 52,
   "metadata": {},
   "outputs": [
    {
     "data": {
      "image/png": "[encoded data removed]",
      "text/plain": [
       "<Figure size 640x480 with 2 Axes>"
      ]
     },
     "metadata": {},
     "output_type": "display_data"
    }
   ],
   "source": [
    "ConfusionMatrixDisplay.from_predictions(y_test, y_pred_lr);"
   ]
  },
  {
   "cell_type": "markdown",
   "metadata": {},
   "source": [
    "### KNeighborsClassifier"
   ]
  },
  {
   "cell_type": "code",
   "execution_count": 53,
   "metadata": {},
   "outputs": [],
   "source": [
    "# Adição de pesos não implementada.\n",
    "\n",
    "param_search = {'n_neighbors': np.arange(5, 100,5),\n",
    "                'weights':['uniform', 'distance'],\n",
    "                'algorithm':['auto']\n",
    "                }\n",
    "            \n",
    "cv = RepeatedStratifiedKFold(n_splits=5, \n",
    "                    n_repeats=3, \n",
    "                    random_state=42)\n",
    "\n",
    "\n",
    "\n",
    "rs_neigh = RandomizedSearchCV(KNeighborsClassifier(n_jobs=1),\n",
    "                        param_distributions=param_search,\n",
    "                        n_iter=n_iter,\n",
    "                        scoring='f1',\n",
    "                        random_state=42,\n",
    "                        n_jobs=-1,\n",
    "                        cv=cv)\n",
    "\n",
    "rs_neigh.fit(x_train, y_train)\n",
    "\n",
    "model, best_score = rs_neigh.best_estimator_, rs_neigh.best_score_\n",
    "\n",
    "y_pred_test_neigh = model.predict(x_test)\n",
    "y_pred_train_neigh = model.predict(x_train)"
   ]
  },
  {
   "cell_type": "code",
   "execution_count": 54,
   "metadata": {},
   "outputs": [
    {
     "name": "stdout",
     "output_type": "stream",
     "text": [
      "Verificar overfitting do modelo\n",
      "Balanced Acc. Test:  0.9\n",
      "Balanced Acc. Train:  0.9710051546391752\n"
     ]
    }
   ],
   "source": [
    "print(\"Verificar overfitting do modelo\")\n",
    "print(\"Balanced Acc. Test: \", balanced_accuracy_score(y_test, y_pred_test_neigh))\n",
    "print(\"Balanced Acc. Train: \", balanced_accuracy_score(y_train, y_pred_train_neigh))"
   ]
  },
  {
   "cell_type": "code",
   "execution_count": 55,
   "metadata": {},
   "outputs": [
    {
     "name": "stdout",
     "output_type": "stream",
     "text": [
      "0 {'precision': 0.9979253112033195, 'recall': 0.925, 'f1-score': 0.9600798403193613, 'support': 520}\n",
      "1 {'precision': 0.15217391304347827, 'recall': 0.875, 'f1-score': 0.2592592592592593, 'support': 8}\n"
     ]
    }
   ],
   "source": [
    "#print(classification_report(y_test, y_pred_test_neigh))\n",
    "\n",
    "results = classification_report(np.array(y_test), y_pred_test_neigh, output_dict = True)\n",
    "\n",
    "print('0', results['0'])\n",
    "print('1', results['1'])"
   ]
  },
  {
   "cell_type": "code",
   "execution_count": 56,
   "metadata": {},
   "outputs": [
    {
     "data": {
      "text/plain": [
       "<sklearn.metrics._plot.confusion_matrix.ConfusionMatrixDisplay at 0x178882f0040>"
      ]
     },
     "execution_count": 56,
     "metadata": {},
     "output_type": "execute_result"
    },
    {
     "data": {
      "image/png": "[encoded data removed]",
      "text/plain": [
       "<Figure size 640x480 with 2 Axes>"
      ]
     },
     "metadata": {},
     "output_type": "display_data"
    }
   ],
   "source": [
    "ConfusionMatrixDisplay.from_predictions(y_test, y_pred_test_neigh)"
   ]
  },
  {
   "cell_type": "code",
   "execution_count": null,
   "metadata": {},
   "outputs": [],
   "source": []
  }
 ],
 "metadata": {
  "kernelspec": {
   "display_name": "Python 3.10.6 ('newer')",
   "language": "python",
   "name": "python3"
  },
  "language_info": {
   "codemirror_mode": {
    "name": "ipython",
    "version": 3
   },
   "file_extension": ".py",
   "mimetype": "text/x-python",
   "name": "python",
   "nbconvert_exporter": "python",
   "pygments_lexer": "ipython3",
   "version": "3.10.6"
  },
  "orig_nbformat": 4,
  "vscode": {
   "interpreter": {
    "hash": "b7b28754bfa069f357eb70f913c7aaba9bb4beb25724b18b063f82434d2c2bd2"
   }
  }
 },
 "nbformat": 4,
 "nbformat_minor": 2
}
