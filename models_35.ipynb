{
 "cells": [
  {
   "cell_type": "code",
   "execution_count": 2,
   "metadata": {},
   "outputs": [],
   "source": [
    "import pandas as pd\n",
    "import numpy as np\n",
    "\n",
    "from sklearn.neighbors import KNeighborsClassifier\n",
    "from sklearn.ensemble import RandomForestClassifier\n",
    "from sklearn.linear_model import LogisticRegression\n",
    "from sklearn.model_selection import RandomizedSearchCV, RepeatedStratifiedKFold\n",
    "\n",
    "from sklearn.metrics import classification_report, ConfusionMatrixDisplay, balanced_accuracy_score\n",
    "\n",
    "from sklearn.model_selection import train_test_split"
   ]
  },
  {
   "cell_type": "code",
   "execution_count": null,
   "metadata": {},
   "outputs": [],
   "source": [
    "df_vfc = pd.read_csv(\"vfc_dataset.csv\")"
   ]
  },
  {
   "cell_type": "code",
   "execution_count": null,
   "metadata": {},
   "outputs": [],
   "source": [
    "n_iter = 20\n",
    "X = #\n",
    "y = #"
   ]
  },
  {
   "cell_type": "code",
   "execution_count": null,
   "metadata": {},
   "outputs": [],
   "source": [
    "x_train, x_test, y_train, y_test = train_test_split(X, y, random_state=42)"
   ]
  },
  {
   "cell_type": "markdown",
   "metadata": {},
   "source": [
    "### Random Forest Classifier"
   ]
  },
  {
   "cell_type": "code",
   "execution_count": null,
   "metadata": {},
   "outputs": [],
   "source": [
    "param_search = {'n_estimators': [400],\n",
    "                  'oob_score': [False],\n",
    "                  'criterion': ['gini'],\n",
    "                  'bootstrap':[True],\n",
    "                  'class_weight':['balanced_subsample'],\n",
    "                  'min_weight_fraction_leaf':[0, 0.1, 0.2, 0.3, 0.4, 0.5], \n",
    "                  'min_impurity_decrease':[0, 0.1],\n",
    "                  'min_samples_split': [10, 30, 60, 80],\n",
    "                  'min_samples_leaf': [10, 30, 60, 80]\n",
    "                 }\n",
    "            \n",
    "cv = RepeatedStratifiedKFold(n_splits=5, \n",
    "                    n_repeats=3, \n",
    "                    random_state=42)\n",
    "\n",
    "rs_rf = RandomizedSearchCV(RandomForestClassifier(n_jobs=1),\n",
    "                        param_distributions=param_search,\n",
    "                        n_iter=n_iter,\n",
    "                        scoring='f1',\n",
    "                        random_state=42,\n",
    "                        n_jobs=-1,\n",
    "                        cv=cv)\n",
    "\n",
    "rs_rf.fit(x_train, y_train)\n",
    "\n",
    "model, best_score = rs_rf.best_estimator_, rs_rf.best_score_\n",
    "\n",
    "y_pred_test_rf = model.predict(x_test)\n",
    "y_pred_train_rf = model.predict(x_train)"
   ]
  },
  {
   "cell_type": "code",
   "execution_count": null,
   "metadata": {},
   "outputs": [],
   "source": [
    "print(\"Verificar overfitting do modelo\")\n",
    "print(\"Balanced Acc. Test: \", balanced_accuracy_score(y_test, y_pred_test_rf))\n",
    "print(\"Balanced Acc. Train: \", balanced_accuracy_score(y_train, y_pred_train_rf))"
   ]
  },
  {
   "cell_type": "code",
   "execution_count": null,
   "metadata": {},
   "outputs": [],
   "source": [
    "classification_report(y_test, y_pred_test_rf)"
   ]
  },
  {
   "cell_type": "code",
   "execution_count": null,
   "metadata": {},
   "outputs": [],
   "source": [
    "ConfusionMatrixDisplay.from_predictions(y_test, y_pred_test_rf)"
   ]
  },
  {
   "cell_type": "markdown",
   "metadata": {},
   "source": [
    "### LogisticRegression"
   ]
  },
  {
   "cell_type": "code",
   "execution_count": null,
   "metadata": {},
   "outputs": [],
   "source": [
    "lr = LogisticRegression(random_state=42)\n",
    "lr.fit(x_train, y_train)\n",
    "y_pred_lr = lr.predict(x_test)\n",
    "y_pred_train_lr = lr.predict(x_train)"
   ]
  },
  {
   "cell_type": "code",
   "execution_count": null,
   "metadata": {},
   "outputs": [],
   "source": [
    "print(\"Verificar overfitting do modelo\")\n",
    "print(\"Balanced Acc. Test: \", balanced_accuracy_score(y_test, y_pred_lr))\n",
    "print(\"Balanced Acc. Train: \", balanced_accuracy_score(y_train, y_pred_train_lr))"
   ]
  },
  {
   "cell_type": "code",
   "execution_count": null,
   "metadata": {},
   "outputs": [],
   "source": [
    "classification_report(y_test, y_pred_lr)"
   ]
  },
  {
   "cell_type": "code",
   "execution_count": null,
   "metadata": {},
   "outputs": [],
   "source": [
    "ConfusionMatrixDisplay.from_predictions(y_test, y_pred_lr)"
   ]
  },
  {
   "cell_type": "markdown",
   "metadata": {},
   "source": [
    "### KNeighborsClassifier"
   ]
  },
  {
   "cell_type": "code",
   "execution_count": null,
   "metadata": {},
   "outputs": [],
   "source": [
    "param_search = {'n_neighbors': np.arange(5, 100,5),\n",
    "                'weights':['uniform', 'distance'],\n",
    "                'algorithm':'auto'\n",
    "                }\n",
    "            \n",
    "cv = RepeatedStratifiedKFold(n_splits=5, \n",
    "                    n_repeats=3, \n",
    "                    random_state=42)\n",
    "\n",
    "\n",
    "\n",
    "rs_neigh = RandomizedSearchCV(KNeighborsClassifier(n_jobs=1),\n",
    "                        param_distributions=param_search,\n",
    "                        n_iter=n_iter,\n",
    "                        scoring='f1',\n",
    "                        random_state=42,\n",
    "                        n_jobs=-1,\n",
    "                        cv=cv)\n",
    "\n",
    "rs_neigh.fit(x_train, y_train)\n",
    "\n",
    "model, best_score = rs_neigh.best_estimator_, rs_neigh.best_score_\n",
    "\n",
    "y_pred_test_neigh = model.predict(x_test)\n",
    "y_pred_train_neigh = model.predict(x_train)"
   ]
  },
  {
   "cell_type": "code",
   "execution_count": null,
   "metadata": {},
   "outputs": [],
   "source": [
    "print(\"Verificar overfitting do modelo\")\n",
    "print(\"Balanced Acc. Test: \", balanced_accuracy_score(y_test, y_pred_test_neigh))\n",
    "print(\"Balanced Acc. Train: \", balanced_accuracy_score(y_train, y_pred_train_neigh))"
   ]
  },
  {
   "cell_type": "code",
   "execution_count": null,
   "metadata": {},
   "outputs": [],
   "source": [
    "classification_report(y_test, y_pred_test_neigh)"
   ]
  },
  {
   "cell_type": "code",
   "execution_count": null,
   "metadata": {},
   "outputs": [],
   "source": [
    "ConfusionMatrixDisplay.from_predictions(y_test, y_pred_test_neigh)"
   ]
  }
 ],
 "metadata": {
  "kernelspec": {
   "display_name": "Python 3.8.10 ('venv': venv)",
   "language": "python",
   "name": "python3"
  },
  "language_info": {
   "codemirror_mode": {
    "name": "ipython",
    "version": 3
   },
   "file_extension": ".py",
   "mimetype": "text/x-python",
   "name": "python",
   "nbconvert_exporter": "python",
   "pygments_lexer": "ipython3",
   "version": "3.8.10"
  },
  "orig_nbformat": 4,
  "vscode": {
   "interpreter": {
    "hash": "87492c49a5d45706d1ba679602003c505e606a6b02e2606f5e8ab022e492f0e5"
   }
  }
 },
 "nbformat": 4,
 "nbformat_minor": 2
}
